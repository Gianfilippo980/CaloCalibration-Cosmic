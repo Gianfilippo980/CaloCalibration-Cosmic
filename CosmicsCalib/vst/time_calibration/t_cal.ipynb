{
 "cells": [
  {
   "cell_type": "markdown",
   "metadata": {},
   "source": [
    "Time Calibration of the Mu2e Calorimeter\n",
    "\n",
    "by Giacinto boccia\n",
    "\n",
    "version 0.1 | 2024-09-05"
   ]
  },
  {
   "cell_type": "code",
   "execution_count": null,
   "metadata": {},
   "outputs": [],
   "source": [
    "import numpy as np\n",
    "import dask as dk\n",
    "import uproot\n",
    "import quantities as pq"
   ]
  },
  {
   "cell_type": "code",
   "execution_count": null,
   "metadata": {},
   "outputs": [],
   "source": [
    "hits_path = input(\"Hits file to process:\")\n",
    "cal_path = input(\"Starting caibration file:\") or False\n",
    "n_runs = input(\"Iterations to perform:\")"
   ]
  }
 ],
 "metadata": {
  "kernelspec": {
   "display_name": "Python [conda env:.conda-t_cal]",
   "language": "python",
   "name": "conda-env-.conda-t_cal-py"
  },
  "language_info": {
   "codemirror_mode": {
    "name": "ipython",
    "version": 3
   },
   "file_extension": ".py",
   "mimetype": "text/x-python",
   "name": "python",
   "nbconvert_exporter": "python",
   "pygments_lexer": "ipython3",
   "version": "3.12.5"
  }
 },
 "nbformat": 4,
 "nbformat_minor": 4
}
