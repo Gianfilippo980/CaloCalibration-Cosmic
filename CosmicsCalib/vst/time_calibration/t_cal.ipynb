{
 "cells": [
  {
   "cell_type": "markdown",
   "metadata": {},
   "source": [
    "Time Calibration of the Mu2e Calorimeter\n",
    "\n",
    "by Giacinto boccia\n",
    "\n",
    "version 0.1 | 2024-09-05"
   ]
  },
  {
   "cell_type": "code",
   "execution_count": 42,
   "metadata": {},
   "outputs": [],
   "source": [
    "import numpy as np\n",
    "import awkward as ak\n",
    "import uproot\n",
    "import quantities as pq\n",
    "from concurrent.futures import ProcessPoolExecutor"
   ]
  },
  {
   "cell_type": "code",
   "execution_count": 43,
   "metadata": {},
   "outputs": [],
   "source": [
    "#Input\n",
    "hits_path = input(\"Hits file to process:\")\n",
    "cal_path = input(\"Starting caibration file:\") or False\n",
    "n_runs = input(\"Iterations to perform:\")\n",
    "#Name of the tree inside the file\n",
    "hits_path += \":sidet\""
   ]
  },
  {
   "cell_type": "code",
   "execution_count": 96,
   "metadata": {},
   "outputs": [],
   "source": [
    "#Opening the calibration start-point file\n",
    "if cal_path:\n",
    "    print(\"Starting calibration file not yet supported\")\n",
    "    cal_corection = np.zeros((36, 28, 2)) * pq.ns\n",
    "else:\n",
    "    cal_corection = np.zeros((36, 28, 2)) * pq.ns"
   ]
  },
  {
   "cell_type": "code",
   "execution_count": 97,
   "metadata": {},
   "outputs": [],
   "source": [
    "#Loading the tree, start by defining custom event class that can compute residurals\n",
    "class Cosmic(ak.Record):     \n",
    "    def t_residuals(self, correction) -> dict | None:\n",
    "        if hasattr(self, 'slope'):\n",
    "            #For each event, returns each hit's residual\n",
    "            cos_theta = 1 / np.sqrt(1 + self.slope)\n",
    "            t_arr = np.array(self.Tval + self.templTime) * pq.ns\n",
    "            t_res = dict()\n",
    "            for i, row, col, sipm in enumerate(zip(self.iRow, self.iCol, self.SiPM)):\n",
    "                #Apply current time corrections\n",
    "                t_arr[i] -= correction[row, col, sipm]\n",
    "            t_0_ev = np.average(t_arr, weights= self.Qval)\n",
    "            for time, y, row, col, sipm in zip(t_arr, self.Yval, self.iRow, self.iCol, self.SiPM):\n",
    "                #Each residual is stored in the dictionary with (row, col, sipm) as key\n",
    "                t_res[(row, col, sipm)] = time + y / (pq.c * cos_theta) - t_0_ev\n",
    "            return t_res\n",
    "        else:\n",
    "            return None                \n",
    "ak.behavior[\"cosmic\"] = Cosmic\n",
    "        \n",
    "#Loading tree in an array structure, we only need some of the branches\n",
    "branches = (\"nrun\", \"nsubrun\", \"evnum\", \"nHits\", \"iRow\", \"iCol\", \"SiPM\", \"Xval\", \"Yval\", \"Qval\", \"Tval\", \"templTime\")\n",
    "with uproot.open(hits_path) as file:\n",
    "    tree = file.arrays(filter_name = branches, entry_stop= 10, )\n",
    "    \n",
    "#Now change the array so that it uses the custom class defned above\n",
    "tree = ak.Array(tree, with_name= \"cosmic\")"
   ]
  },
  {
   "cell_type": "code",
   "execution_count": 74,
   "metadata": {},
   "outputs": [],
   "source": [
    "#To get the parameters, each event is fitted\n",
    "def linear_fit(event) -> dict[str, np.double | int]:\n",
    "    x_arr = event.Xval\n",
    "    y_arr = event.Yval\n",
    "    if event.nHits > 1:\n",
    "        #Events that are not empty\n",
    "        if np.max(x_arr) - np.min(x_arr) > 34.4:\n",
    "            #Events that are not vertical\n",
    "            [slope, intercept], residuals, _, _, _ = np.polyfit(x_arr, y_arr, deg= 1, full= True)\n",
    "            chi_sq : np.double = np.sum(residuals)\n",
    "            ndf = event.nHits - 2\n",
    "            return {'vertical' : False, 'slope' : slope, 'intercept' : intercept, 'chi_sq' : chi_sq, 'ndf' : ndf}\n",
    "        else:\n",
    "            #Vertical events get flagged\n",
    "            return {'Vertical': True}\n",
    "    else:\n",
    "        return None\n",
    "        \n",
    "with ProcessPoolExecutor() as executor:\n",
    "    fit_results = list(executor.map(linear_fit, tree))\n",
    "    \n",
    "fit_results = ak.Array(fit_results)"
   ]
  },
  {
   "cell_type": "code",
   "execution_count": 77,
   "metadata": {},
   "outputs": [],
   "source": [
    "#Add the fit results to the tree\n",
    "tree = ak.with_field(tree, fit_results.vertical, \"vertical\")\n",
    "tree = ak.with_field(tree, fit_results.slope, \"slope\")\n",
    "tree = ak.with_field(tree, fit_results.intercept, \"intercept\")\n",
    "tree = ak.with_field(tree, fit_results.chi_sq, \"chi_sq\")\n",
    "tree = ak.with_field(tree, fit_results.ndf, \"ndf\")"
   ]
  },
  {
   "cell_type": "code",
   "execution_count": null,
   "metadata": {},
   "outputs": [],
   "source": [
    "#Apply the filters and compute the residuals"
   ]
  }
 ],
 "metadata": {
  "kernelspec": {
   "display_name": "Python [conda env:.conda-t_cal]",
   "language": "python",
   "name": "conda-env-.conda-t_cal-py"
  },
  "language_info": {
   "codemirror_mode": {
    "name": "ipython",
    "version": 3
   },
   "file_extension": ".py",
   "mimetype": "text/x-python",
   "name": "python",
   "nbconvert_exporter": "python",
   "pygments_lexer": "ipython3",
   "version": "3.12.5"
  }
 },
 "nbformat": 4,
 "nbformat_minor": 4
}
