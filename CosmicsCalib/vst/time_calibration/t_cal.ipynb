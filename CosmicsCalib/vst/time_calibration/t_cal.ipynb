{
 "cells": [
  {
   "cell_type": "markdown",
   "metadata": {},
   "source": [
    "Time Calibration of the Mu2e Calorimeter\n",
    "\n",
    "by Giacinto boccia\n",
    "\n",
    "version 0.1 | 2024-09-05"
   ]
  },
  {
   "cell_type": "code",
   "execution_count": 77,
   "metadata": {},
   "outputs": [],
   "source": [
    "import numpy as np\n",
    "import awkward as ak\n",
    "import uproot\n",
    "import quantities as pq\n",
    "from concurrent.futures import ProcessPoolExecutor"
   ]
  },
  {
   "cell_type": "code",
   "execution_count": 78,
   "metadata": {},
   "outputs": [],
   "source": [
    "#Cut parameters\n",
    "HITNUM_CUT = 1\n",
    "Q_MIN_CUT = 4000\n",
    "Q_MAX_CUT = 8000\n",
    "COS_THETA_CUT = 0.9\n",
    "CHI_ON_NDF_CUT = 2000"
   ]
  },
  {
   "cell_type": "code",
   "execution_count": 79,
   "metadata": {},
   "outputs": [],
   "source": [
    "#Input\n",
    "hits_path = input(\"Hits file to process:\")\n",
    "cal_path = input(\"Starting caibration file:\") or False\n",
    "n_runs = input(\"Iterations to perform:\")\n",
    "#Name of the tree inside the file\n",
    "hits_path += \":sidet\""
   ]
  },
  {
   "cell_type": "code",
   "execution_count": 80,
   "metadata": {},
   "outputs": [],
   "source": [
    "#Opening the calibration start-point file\n",
    "if cal_path:\n",
    "    print(\"Starting calibration file not yet supported\")\n",
    "    cal_corection = pq.Quantity(np.zeros((36, 28, 2)), 'ns')\n",
    "else:\n",
    "    #The time-correction array is [rows, columns, SiPM] shaped\n",
    "    cal_corection = pq.Quantity(np.zeros((36, 28, 2)), 'ns')"
   ]
  },
  {
   "cell_type": "code",
   "execution_count": 81,
   "metadata": {},
   "outputs": [],
   "source": [
    "#Loading the tree, start by defining custom event class that can compute residurals\n",
    "class Cosmic(ak.Record):     \n",
    "    def t_residuals(self) -> dict | None:\n",
    "        #Filters on the hit charge \n",
    "        q_min_fitler = self.Qval > Q_MIN_CUT\n",
    "        q_max_fitler = self.Qval < Q_MAX_CUT\n",
    "        q_filter = q_max_fitler & q_min_fitler\n",
    "        if self.slope:\n",
    "            #Select events that have a not \"None\" slope. For each hit return the time residual\n",
    "            cos_theta = 1 / np.sqrt(1 + self.slope ** 2)\n",
    "            t_arr = pq.Quantity(np.array(self.Tval[q_filter] + self.templTime[q_filter]), 'ns')\n",
    "            t_res = dict()\n",
    "            for i, [row, col, sipm] in enumerate(zip(self.iRow[q_filter],\n",
    "                                                     self.iCol[q_filter],\n",
    "                                                     self.SiPM[q_filter])):\n",
    "                #Apply current time corrections\n",
    "                t_arr[i] -= cal_corection[row, col, sipm]\n",
    "            t_0_ev = np.average(t_arr, weights= self.Qval[q_filter])\n",
    "            for time, y, row, col, sipm in zip(t_arr, \n",
    "                                               self.Yval[q_filter],\n",
    "                                               self.iRow[q_filter],\n",
    "                                               self.iCol[q_filter],\n",
    "                                               self.SiPM[q_filter]):\n",
    "                #Each residual is stored in the dictionary with (row, col, sipm) as key\n",
    "                y = y * pq.cm\n",
    "                print(t_0_ev)\n",
    "                t_res[(row, col, sipm)] = time + y / (pq.c * cos_theta) - t_0_ev\n",
    "            return t_res\n",
    "        else:\n",
    "            return None                \n",
    "ak.behavior[\"cosmic\"] = Cosmic\n",
    "        \n",
    "#Loading tree in an array structure, we only need some of the branches\n",
    "branches = (\"nrun\", \"nsubrun\", \"evnum\", \"nHits\", \"iRow\", \"iCol\", \"SiPM\", \"Xval\", \"Yval\", \"Qval\", \"Tval\", \"templTime\")\n",
    "with uproot.open(hits_path) as file:\n",
    "    tree = file.arrays(filter_name = branches, entry_stop= 1000)\n",
    "    \n",
    "#Now change the array so that it uses the custom class defned above\n",
    "tree = ak.Array(tree, with_name= \"cosmic\")"
   ]
  },
  {
   "cell_type": "code",
   "execution_count": 82,
   "metadata": {},
   "outputs": [],
   "source": [
    "#To get the parameters, each event is fitted\n",
    "def linear_fit(event) -> dict[str, np.double | int]:\n",
    "    q_min_fitler = event.Qval > Q_MIN_CUT\n",
    "    q_max_fitler = event.Qval < Q_MAX_CUT\n",
    "    x_arr = event.Xval[q_min_fitler & q_max_fitler]\n",
    "    y_arr = event.Yval[q_min_fitler & q_max_fitler]\n",
    "    if len(x_arr) > 1:\n",
    "        #Events that are not empty\n",
    "        if np.max(x_arr) - np.min(x_arr) > 34.4:\n",
    "            #Events that are not vertical\n",
    "            [slope, intercept], residuals, _, _, _ = np.polyfit(x_arr, y_arr, deg= 1, full= True)\n",
    "            chi_sq : np.double = np.sum(residuals)\n",
    "            ndf = event.nHits - 2\n",
    "            return {'vertical' : False, 'slope' : slope, 'intercept' : intercept, 'chi_sq' : chi_sq, 'ndf' : ndf}\n",
    "        else:\n",
    "            #Vertical events get flagged\n",
    "            return {'vertical': True, 'slope' : None, 'intercept' : None, 'chi_sq' : None, 'ndf' : None}\n",
    "    else:\n",
    "        return None\n",
    "        \n",
    "with ProcessPoolExecutor() as executor:\n",
    "    fit_results = list(executor.map(linear_fit, tree))\n",
    "fit_results = ak.Array(fit_results)"
   ]
  },
  {
   "cell_type": "code",
   "execution_count": 83,
   "metadata": {},
   "outputs": [],
   "source": [
    "#Add the fit results to the tree\n",
    "if hasattr(fit_results, 'vertical'):\n",
    "    tree = ak.with_field(tree, fit_results.vertical, \"vertical\")\n",
    "    tree = ak.with_field(tree, fit_results.slope, \"slope\")\n",
    "    tree = ak.with_field(tree, fit_results.intercept, \"intercept\")\n",
    "    tree = ak.with_field(tree, fit_results.chi_sq, \"chi_sq\")\n",
    "    tree = ak.with_field(tree, fit_results.ndf, \"ndf\")"
   ]
  },
  {
   "cell_type": "code",
   "execution_count": 84,
   "metadata": {},
   "outputs": [
    {
     "name": "stderr",
     "output_type": "stream",
     "text": [
      "/tmp/ipykernel_3483/4039208885.py:11: DeprecationWarning: __array__ implementation doesn't accept a copy keyword, so passing copy=False failed. __array__ must implement 'dtype' and 'copy' keyword arguments.\n",
      "  t_arr = pq.Quantity(np.array(self.Tval[q_filter] + self.templTime[q_filter]), 'ns')\n",
      "/tmp/ipykernel_3483/4039208885.py:11: DeprecationWarning: __array__ implementation doesn't accept a copy keyword, so passing copy=False failed. __array__ must implement 'dtype' and 'copy' keyword arguments.\n",
      "  t_arr = pq.Quantity(np.array(self.Tval[q_filter] + self.templTime[q_filter]), 'ns')\n",
      "/tmp/ipykernel_3483/4039208885.py:11: DeprecationWarning: __array__ implementation doesn't accept a copy keyword, so passing copy=False failed. __array__ must implement 'dtype' and 'copy' keyword arguments.\n",
      "  t_arr = pq.Quantity(np.array(self.Tval[q_filter] + self.templTime[q_filter]), 'ns')\n",
      "/tmp/ipykernel_3483/4039208885.py:11: DeprecationWarning: __array__ implementation doesn't accept a copy keyword, so passing copy=False failed. __array__ must implement 'dtype' and 'copy' keyword arguments.\n",
      "  t_arr = pq.Quantity(np.array(self.Tval[q_filter] + self.templTime[q_filter]), 'ns')\n"
     ]
    },
    {
     "name": "stdout",
     "output_type": "stream",
     "text": [
      "79304.42191826855\n",
      "90795.30751571471\n",
      "75694.2614656507519997.214920307983\n",
      "\n"
     ]
    },
    {
     "name": "stderr",
     "output_type": "stream",
     "text": [
      "/tmp/ipykernel_3483/4039208885.py:11: DeprecationWarning: __array__ implementation doesn't accept a copy keyword, so passing copy=False failed. __array__ must implement 'dtype' and 'copy' keyword arguments.\n",
      "  t_arr = pq.Quantity(np.array(self.Tval[q_filter] + self.templTime[q_filter]), 'ns')\n",
      "/tmp/ipykernel_3483/4039208885.py:11: DeprecationWarning: __array__ implementation doesn't accept a copy keyword, so passing copy=False failed. __array__ must implement 'dtype' and 'copy' keyword arguments.\n",
      "  t_arr = pq.Quantity(np.array(self.Tval[q_filter] + self.templTime[q_filter]), 'ns')\n",
      "/tmp/ipykernel_3483/4039208885.py:11: DeprecationWarning: __array__ implementation doesn't accept a copy keyword, so passing copy=False failed. __array__ must implement 'dtype' and 'copy' keyword arguments.\n",
      "  t_arr = pq.Quantity(np.array(self.Tval[q_filter] + self.templTime[q_filter]), 'ns')\n",
      "/tmp/ipykernel_3483/4039208885.py:11: DeprecationWarning: __array__ implementation doesn't accept a copy keyword, so passing copy=False failed. __array__ must implement 'dtype' and 'copy' keyword arguments.\n",
      "  t_arr = pq.Quantity(np.array(self.Tval[q_filter] + self.templTime[q_filter]), 'ns')\n",
      "/tmp/ipykernel_3483/4039208885.py:11: DeprecationWarning: __array__ implementation doesn't accept a copy keyword, so passing copy=False failed. __array__ must implement 'dtype' and 'copy' keyword arguments.\n",
      "  t_arr = pq.Quantity(np.array(self.Tval[q_filter] + self.templTime[q_filter]), 'ns')\n",
      "/tmp/ipykernel_3483/4039208885.py:11: DeprecationWarning: __array__ implementation doesn't accept a copy keyword, so passing copy=False failed. __array__ must implement 'dtype' and 'copy' keyword arguments.\n",
      "  t_arr = pq.Quantity(np.array(self.Tval[q_filter] + self.templTime[q_filter]), 'ns')\n"
     ]
    },
    {
     "name": "stdout",
     "output_type": "stream",
     "text": [
      "63138.00174251748\n",
      "88467.2490756870455593.141766390254"
     ]
    },
    {
     "name": "stderr",
     "output_type": "stream",
     "text": [
      "/tmp/ipykernel_3483/4039208885.py:11: DeprecationWarning: __array__ implementation doesn't accept a copy keyword, so passing copy=False failed. __array__ must implement 'dtype' and 'copy' keyword arguments.\n",
      "  t_arr = pq.Quantity(np.array(self.Tval[q_filter] + self.templTime[q_filter]), 'ns')\n"
     ]
    },
    {
     "name": "stdout",
     "output_type": "stream",
     "text": [
      "79983.27938005421\n",
      "63995.91112059704\n",
      "64036.6244833502"
     ]
    },
    {
     "name": "stderr",
     "output_type": "stream",
     "text": [
      "/tmp/ipykernel_3483/4039208885.py:11: DeprecationWarning: __array__ implementation doesn't accept a copy keyword, so passing copy=False failed. __array__ must implement 'dtype' and 'copy' keyword arguments.\n",
      "  t_arr = pq.Quantity(np.array(self.Tval[q_filter] + self.templTime[q_filter]), 'ns')\n"
     ]
    },
    {
     "name": "stdout",
     "output_type": "stream",
     "text": [
      "25003.549800690434\n",
      "\n",
      "\n",
      "\n",
      "7022.8253353113205"
     ]
    },
    {
     "name": "stderr",
     "output_type": "stream",
     "text": [
      "/tmp/ipykernel_3483/4039208885.py:11: DeprecationWarning: __array__ implementation doesn't accept a copy keyword, so passing copy=False failed. __array__ must implement 'dtype' and 'copy' keyword arguments.\n",
      "  t_arr = pq.Quantity(np.array(self.Tval[q_filter] + self.templTime[q_filter]), 'ns')\n",
      "/tmp/ipykernel_3483/4039208885.py:11: DeprecationWarning: __array__ implementation doesn't accept a copy keyword, so passing copy=False failed. __array__ must implement 'dtype' and 'copy' keyword arguments.\n",
      "  t_arr = pq.Quantity(np.array(self.Tval[q_filter] + self.templTime[q_filter]), 'ns')\n",
      "/tmp/ipykernel_3483/4039208885.py:11: DeprecationWarning: __array__ implementation doesn't accept a copy keyword, so passing copy=False failed. __array__ must implement 'dtype' and 'copy' keyword arguments.\n",
      "  t_arr = pq.Quantity(np.array(self.Tval[q_filter] + self.templTime[q_filter]), 'ns')\n",
      "/tmp/ipykernel_3483/4039208885.py:11: DeprecationWarning: __array__ implementation doesn't accept a copy keyword, so passing copy=False failed. __array__ must implement 'dtype' and 'copy' keyword arguments.\n",
      "  t_arr = pq.Quantity(np.array(self.Tval[q_filter] + self.templTime[q_filter]), 'ns')\n",
      "/tmp/ipykernel_3483/4039208885.py:11: DeprecationWarning: __array__ implementation doesn't accept a copy keyword, so passing copy=False failed. __array__ must implement 'dtype' and 'copy' keyword arguments.\n",
      "  t_arr = pq.Quantity(np.array(self.Tval[q_filter] + self.templTime[q_filter]), 'ns')\n"
     ]
    },
    {
     "name": "stdout",
     "output_type": "stream",
     "text": [
      "34855.8700254237215870.97862482261426013.44908076265"
     ]
    },
    {
     "name": "stderr",
     "output_type": "stream",
     "text": [
      "/tmp/ipykernel_3483/4039208885.py:11: DeprecationWarning: __array__ implementation doesn't accept a copy keyword, so passing copy=False failed. __array__ must implement 'dtype' and 'copy' keyword arguments.\n",
      "  t_arr = pq.Quantity(np.array(self.Tval[q_filter] + self.templTime[q_filter]), 'ns')\n"
     ]
    },
    {
     "name": "stdout",
     "output_type": "stream",
     "text": [
      "84834.5971320784\n",
      "\n",
      "42634.6200085111679931.32326178983\n",
      "44432.50514595326\n",
      "\n",
      "55708.53234263426"
     ]
    },
    {
     "name": "stderr",
     "output_type": "stream",
     "text": [
      "/tmp/ipykernel_3483/4039208885.py:11: DeprecationWarning: __array__ implementation doesn't accept a copy keyword, so passing copy=False failed. __array__ must implement 'dtype' and 'copy' keyword arguments.\n",
      "  t_arr = pq.Quantity(np.array(self.Tval[q_filter] + self.templTime[q_filter]), 'ns')\n"
     ]
    },
    {
     "name": "stdout",
     "output_type": "stream",
     "text": [
      "\n",
      "\n",
      "92890.11691036365\n",
      "\n"
     ]
    },
    {
     "name": "stderr",
     "output_type": "stream",
     "text": [
      "/tmp/ipykernel_3483/4039208885.py:11: DeprecationWarning: __array__ implementation doesn't accept a copy keyword, so passing copy=False failed. __array__ must implement 'dtype' and 'copy' keyword arguments.\n",
      "  t_arr = pq.Quantity(np.array(self.Tval[q_filter] + self.templTime[q_filter]), 'ns')\n",
      "/tmp/ipykernel_3483/4039208885.py:11: DeprecationWarning: __array__ implementation doesn't accept a copy keyword, so passing copy=False failed. __array__ must implement 'dtype' and 'copy' keyword arguments.\n",
      "  t_arr = pq.Quantity(np.array(self.Tval[q_filter] + self.templTime[q_filter]), 'ns')\n"
     ]
    },
    {
     "name": "stdout",
     "output_type": "stream",
     "text": [
      "\n"
     ]
    },
    {
     "name": "stderr",
     "output_type": "stream",
     "text": [
      "/tmp/ipykernel_3483/4039208885.py:11: DeprecationWarning: __array__ implementation doesn't accept a copy keyword, so passing copy=False failed. __array__ must implement 'dtype' and 'copy' keyword arguments.\n",
      "  t_arr = pq.Quantity(np.array(self.Tval[q_filter] + self.templTime[q_filter]), 'ns')\n"
     ]
    },
    {
     "name": "stdout",
     "output_type": "stream",
     "text": [
      "37831.915895747973037.377057006147415153.584372071118"
     ]
    },
    {
     "name": "stderr",
     "output_type": "stream",
     "text": [
      "/tmp/ipykernel_3483/4039208885.py:11: DeprecationWarning: __array__ implementation doesn't accept a copy keyword, so passing copy=False failed. __array__ must implement 'dtype' and 'copy' keyword arguments.\n",
      "  t_arr = pq.Quantity(np.array(self.Tval[q_filter] + self.templTime[q_filter]), 'ns')\n",
      "/tmp/ipykernel_3483/4039208885.py:11: DeprecationWarning: __array__ implementation doesn't accept a copy keyword, so passing copy=False failed. __array__ must implement 'dtype' and 'copy' keyword arguments.\n",
      "  t_arr = pq.Quantity(np.array(self.Tval[q_filter] + self.templTime[q_filter]), 'ns')\n"
     ]
    },
    {
     "name": "stdout",
     "output_type": "stream",
     "text": [
      "87557.7084369128975336.7244894141959056.96467405489\n",
      "84147.04428809459\n"
     ]
    },
    {
     "name": "stderr",
     "output_type": "stream",
     "text": [
      "/tmp/ipykernel_3483/4039208885.py:11: DeprecationWarning: __array__ implementation doesn't accept a copy keyword, so passing copy=False failed. __array__ must implement 'dtype' and 'copy' keyword arguments.\n",
      "  t_arr = pq.Quantity(np.array(self.Tval[q_filter] + self.templTime[q_filter]), 'ns')\n"
     ]
    },
    {
     "name": "stdout",
     "output_type": "stream",
     "text": [
      "\n"
     ]
    },
    {
     "name": "stderr",
     "output_type": "stream",
     "text": [
      "/tmp/ipykernel_3483/4039208885.py:11: DeprecationWarning: __array__ implementation doesn't accept a copy keyword, so passing copy=False failed. __array__ must implement 'dtype' and 'copy' keyword arguments.\n",
      "  t_arr = pq.Quantity(np.array(self.Tval[q_filter] + self.templTime[q_filter]), 'ns')\n",
      "/tmp/ipykernel_3483/4039208885.py:11: DeprecationWarning: __array__ implementation doesn't accept a copy keyword, so passing copy=False failed. __array__ must implement 'dtype' and 'copy' keyword arguments.\n",
      "  t_arr = pq.Quantity(np.array(self.Tval[q_filter] + self.templTime[q_filter]), 'ns')\n"
     ]
    },
    {
     "name": "stdout",
     "output_type": "stream",
     "text": [
      "\n",
      "\n"
     ]
    },
    {
     "name": "stderr",
     "output_type": "stream",
     "text": [
      "/tmp/ipykernel_3483/4039208885.py:11: DeprecationWarning: __array__ implementation doesn't accept a copy keyword, so passing copy=False failed. __array__ must implement 'dtype' and 'copy' keyword arguments.\n",
      "  t_arr = pq.Quantity(np.array(self.Tval[q_filter] + self.templTime[q_filter]), 'ns')\n"
     ]
    },
    {
     "name": "stdout",
     "output_type": "stream",
     "text": [
      "\n",
      "\n"
     ]
    },
    {
     "name": "stderr",
     "output_type": "stream",
     "text": [
      "/tmp/ipykernel_3483/4039208885.py:11: DeprecationWarning: __array__ implementation doesn't accept a copy keyword, so passing copy=False failed. __array__ must implement 'dtype' and 'copy' keyword arguments.\n",
      "  t_arr = pq.Quantity(np.array(self.Tval[q_filter] + self.templTime[q_filter]), 'ns')\n"
     ]
    },
    {
     "name": "stdout",
     "output_type": "stream",
     "text": [
      "71945.07664469018"
     ]
    },
    {
     "name": "stderr",
     "output_type": "stream",
     "text": [
      "/tmp/ipykernel_3483/4039208885.py:11: DeprecationWarning: __array__ implementation doesn't accept a copy keyword, so passing copy=False failed. __array__ must implement 'dtype' and 'copy' keyword arguments.\n",
      "  t_arr = pq.Quantity(np.array(self.Tval[q_filter] + self.templTime[q_filter]), 'ns')\n"
     ]
    },
    {
     "name": "stdout",
     "output_type": "stream",
     "text": [
      "34262.51071882955"
     ]
    },
    {
     "name": "stderr",
     "output_type": "stream",
     "text": [
      "/tmp/ipykernel_3483/4039208885.py:11: DeprecationWarning: __array__ implementation doesn't accept a copy keyword, so passing copy=False failed. __array__ must implement 'dtype' and 'copy' keyword arguments.\n",
      "  t_arr = pq.Quantity(np.array(self.Tval[q_filter] + self.templTime[q_filter]), 'ns')\n"
     ]
    },
    {
     "name": "stdout",
     "output_type": "stream",
     "text": [
      "66983.9138145061758207.48896230405\n"
     ]
    },
    {
     "name": "stderr",
     "output_type": "stream",
     "text": [
      "/tmp/ipykernel_3483/4039208885.py:11: DeprecationWarning: __array__ implementation doesn't accept a copy keyword, so passing copy=False failed. __array__ must implement 'dtype' and 'copy' keyword arguments.\n",
      "  t_arr = pq.Quantity(np.array(self.Tval[q_filter] + self.templTime[q_filter]), 'ns')\n"
     ]
    },
    {
     "name": "stdout",
     "output_type": "stream",
     "text": [
      "73614.35269421348"
     ]
    },
    {
     "name": "stderr",
     "output_type": "stream",
     "text": [
      "/tmp/ipykernel_3483/4039208885.py:11: DeprecationWarning: __array__ implementation doesn't accept a copy keyword, so passing copy=False failed. __array__ must implement 'dtype' and 'copy' keyword arguments.\n",
      "  t_arr = pq.Quantity(np.array(self.Tval[q_filter] + self.templTime[q_filter]), 'ns')\n"
     ]
    },
    {
     "name": "stdout",
     "output_type": "stream",
     "text": [
      "\n"
     ]
    },
    {
     "name": "stderr",
     "output_type": "stream",
     "text": [
      "/tmp/ipykernel_3483/4039208885.py:11: DeprecationWarning: __array__ implementation doesn't accept a copy keyword, so passing copy=False failed. __array__ must implement 'dtype' and 'copy' keyword arguments.\n",
      "  t_arr = pq.Quantity(np.array(self.Tval[q_filter] + self.templTime[q_filter]), 'ns')\n"
     ]
    },
    {
     "name": "stdout",
     "output_type": "stream",
     "text": [
      "\n",
      "\n",
      "6923.8261945076573208.34091162888441127.478330614984"
     ]
    },
    {
     "name": "stderr",
     "output_type": "stream",
     "text": [
      "/tmp/ipykernel_3483/4039208885.py:11: DeprecationWarning: __array__ implementation doesn't accept a copy keyword, so passing copy=False failed. __array__ must implement 'dtype' and 'copy' keyword arguments.\n",
      "  t_arr = pq.Quantity(np.array(self.Tval[q_filter] + self.templTime[q_filter]), 'ns')\n"
     ]
    },
    {
     "name": "stdout",
     "output_type": "stream",
     "text": [
      "2171.79508044297476525.22362078584\n",
      "60134.19691116734\n",
      "\n",
      "\n"
     ]
    },
    {
     "name": "stderr",
     "output_type": "stream",
     "text": [
      "/tmp/ipykernel_3483/4039208885.py:11: DeprecationWarning: __array__ implementation doesn't accept a copy keyword, so passing copy=False failed. __array__ must implement 'dtype' and 'copy' keyword arguments.\n",
      "  t_arr = pq.Quantity(np.array(self.Tval[q_filter] + self.templTime[q_filter]), 'ns')\n"
     ]
    },
    {
     "name": "stdout",
     "output_type": "stream",
     "text": [
      "70480.79388073116"
     ]
    },
    {
     "name": "stderr",
     "output_type": "stream",
     "text": [
      "/tmp/ipykernel_3483/4039208885.py:11: DeprecationWarning: __array__ implementation doesn't accept a copy keyword, so passing copy=False failed. __array__ must implement 'dtype' and 'copy' keyword arguments.\n",
      "  t_arr = pq.Quantity(np.array(self.Tval[q_filter] + self.templTime[q_filter]), 'ns')\n"
     ]
    },
    {
     "name": "stdout",
     "output_type": "stream",
     "text": [
      "88860.58257334688\n",
      "87747.51410318413\n",
      "\n"
     ]
    },
    {
     "name": "stderr",
     "output_type": "stream",
     "text": [
      "/tmp/ipykernel_3483/4039208885.py:11: DeprecationWarning: __array__ implementation doesn't accept a copy keyword, so passing copy=False failed. __array__ must implement 'dtype' and 'copy' keyword arguments.\n",
      "  t_arr = pq.Quantity(np.array(self.Tval[q_filter] + self.templTime[q_filter]), 'ns')\n"
     ]
    },
    {
     "name": "stdout",
     "output_type": "stream",
     "text": [
      "\n",
      "\n"
     ]
    },
    {
     "name": "stderr",
     "output_type": "stream",
     "text": [
      "/tmp/ipykernel_3483/4039208885.py:11: DeprecationWarning: __array__ implementation doesn't accept a copy keyword, so passing copy=False failed. __array__ must implement 'dtype' and 'copy' keyword arguments.\n",
      "  t_arr = pq.Quantity(np.array(self.Tval[q_filter] + self.templTime[q_filter]), 'ns')\n",
      "/tmp/ipykernel_3483/4039208885.py:11: DeprecationWarning: __array__ implementation doesn't accept a copy keyword, so passing copy=False failed. __array__ must implement 'dtype' and 'copy' keyword arguments.\n",
      "  t_arr = pq.Quantity(np.array(self.Tval[q_filter] + self.templTime[q_filter]), 'ns')\n"
     ]
    },
    {
     "name": "stdout",
     "output_type": "stream",
     "text": [
      "53913.89529774437\n",
      "\n",
      "2386.7412919204412469.62478081454719845.37937194226566556.74692606232\n",
      "\n",
      "\n"
     ]
    },
    {
     "name": "stderr",
     "output_type": "stream",
     "text": [
      "/tmp/ipykernel_3483/4039208885.py:11: DeprecationWarning: __array__ implementation doesn't accept a copy keyword, so passing copy=False failed. __array__ must implement 'dtype' and 'copy' keyword arguments.\n",
      "  t_arr = pq.Quantity(np.array(self.Tval[q_filter] + self.templTime[q_filter]), 'ns')\n"
     ]
    },
    {
     "name": "stdout",
     "output_type": "stream",
     "text": [
      "\n"
     ]
    },
    {
     "name": "stderr",
     "output_type": "stream",
     "text": [
      "/tmp/ipykernel_3483/4039208885.py:11: DeprecationWarning: __array__ implementation doesn't accept a copy keyword, so passing copy=False failed. __array__ must implement 'dtype' and 'copy' keyword arguments.\n",
      "  t_arr = pq.Quantity(np.array(self.Tval[q_filter] + self.templTime[q_filter]), 'ns')\n",
      "/tmp/ipykernel_3483/4039208885.py:11: DeprecationWarning: __array__ implementation doesn't accept a copy keyword, so passing copy=False failed. __array__ must implement 'dtype' and 'copy' keyword arguments.\n",
      "  t_arr = pq.Quantity(np.array(self.Tval[q_filter] + self.templTime[q_filter]), 'ns')\n"
     ]
    },
    {
     "name": "stdout",
     "output_type": "stream",
     "text": [
      "28295.773899300504"
     ]
    },
    {
     "name": "stderr",
     "output_type": "stream",
     "text": [
      "/tmp/ipykernel_3483/4039208885.py:11: DeprecationWarning: __array__ implementation doesn't accept a copy keyword, so passing copy=False failed. __array__ must implement 'dtype' and 'copy' keyword arguments.\n",
      "  t_arr = pq.Quantity(np.array(self.Tval[q_filter] + self.templTime[q_filter]), 'ns')\n",
      "/tmp/ipykernel_3483/4039208885.py:11: DeprecationWarning: __array__ implementation doesn't accept a copy keyword, so passing copy=False failed. __array__ must implement 'dtype' and 'copy' keyword arguments.\n",
      "  t_arr = pq.Quantity(np.array(self.Tval[q_filter] + self.templTime[q_filter]), 'ns')\n"
     ]
    },
    {
     "name": "stdout",
     "output_type": "stream",
     "text": [
      "\n",
      "94849.3197041745734489.20955202733\n",
      "\n"
     ]
    },
    {
     "name": "stderr",
     "output_type": "stream",
     "text": [
      "/tmp/ipykernel_3483/4039208885.py:11: DeprecationWarning: __array__ implementation doesn't accept a copy keyword, so passing copy=False failed. __array__ must implement 'dtype' and 'copy' keyword arguments.\n",
      "  t_arr = pq.Quantity(np.array(self.Tval[q_filter] + self.templTime[q_filter]), 'ns')\n"
     ]
    },
    {
     "name": "stdout",
     "output_type": "stream",
     "text": [
      "31126.8614925333495129.21756322726\n"
     ]
    },
    {
     "name": "stderr",
     "output_type": "stream",
     "text": [
      "/tmp/ipykernel_3483/4039208885.py:11: DeprecationWarning: __array__ implementation doesn't accept a copy keyword, so passing copy=False failed. __array__ must implement 'dtype' and 'copy' keyword arguments.\n",
      "  t_arr = pq.Quantity(np.array(self.Tval[q_filter] + self.templTime[q_filter]), 'ns')\n",
      "/tmp/ipykernel_3483/4039208885.py:11: DeprecationWarning: __array__ implementation doesn't accept a copy keyword, so passing copy=False failed. __array__ must implement 'dtype' and 'copy' keyword arguments.\n",
      "  t_arr = pq.Quantity(np.array(self.Tval[q_filter] + self.templTime[q_filter]), 'ns')\n"
     ]
    },
    {
     "name": "stdout",
     "output_type": "stream",
     "text": [
      "32657.84849403592"
     ]
    },
    {
     "name": "stderr",
     "output_type": "stream",
     "text": [
      "/tmp/ipykernel_3483/4039208885.py:11: DeprecationWarning: __array__ implementation doesn't accept a copy keyword, so passing copy=False failed. __array__ must implement 'dtype' and 'copy' keyword arguments.\n",
      "  t_arr = pq.Quantity(np.array(self.Tval[q_filter] + self.templTime[q_filter]), 'ns')\n",
      "/tmp/ipykernel_3483/4039208885.py:11: DeprecationWarning: __array__ implementation doesn't accept a copy keyword, so passing copy=False failed. __array__ must implement 'dtype' and 'copy' keyword arguments.\n",
      "  t_arr = pq.Quantity(np.array(self.Tval[q_filter] + self.templTime[q_filter]), 'ns')\n",
      "/tmp/ipykernel_3483/4039208885.py:11: DeprecationWarning: __array__ implementation doesn't accept a copy keyword, so passing copy=False failed. __array__ must implement 'dtype' and 'copy' keyword arguments.\n",
      "  t_arr = pq.Quantity(np.array(self.Tval[q_filter] + self.templTime[q_filter]), 'ns')\n"
     ]
    },
    {
     "name": "stdout",
     "output_type": "stream",
     "text": [
      "\n",
      "67515.3636831171356691.86061515794\n",
      "\n",
      "56225.109350045954\n"
     ]
    },
    {
     "name": "stderr",
     "output_type": "stream",
     "text": [
      "/tmp/ipykernel_3483/4039208885.py:11: DeprecationWarning: __array__ implementation doesn't accept a copy keyword, so passing copy=False failed. __array__ must implement 'dtype' and 'copy' keyword arguments.\n",
      "  t_arr = pq.Quantity(np.array(self.Tval[q_filter] + self.templTime[q_filter]), 'ns')\n"
     ]
    },
    {
     "name": "stdout",
     "output_type": "stream",
     "text": [
      "2529.961370931623"
     ]
    },
    {
     "name": "stderr",
     "output_type": "stream",
     "text": [
      "/tmp/ipykernel_3483/4039208885.py:11: DeprecationWarning: __array__ implementation doesn't accept a copy keyword, so passing copy=False failed. __array__ must implement 'dtype' and 'copy' keyword arguments.\n",
      "  t_arr = pq.Quantity(np.array(self.Tval[q_filter] + self.templTime[q_filter]), 'ns')\n"
     ]
    },
    {
     "name": "stdout",
     "output_type": "stream",
     "text": [
      "\n",
      "17106.2095642912213772.65719431079491622.65590759236"
     ]
    },
    {
     "name": "stderr",
     "output_type": "stream",
     "text": [
      "/tmp/ipykernel_3483/4039208885.py:11: DeprecationWarning: __array__ implementation doesn't accept a copy keyword, so passing copy=False failed. __array__ must implement 'dtype' and 'copy' keyword arguments.\n",
      "  t_arr = pq.Quantity(np.array(self.Tval[q_filter] + self.templTime[q_filter]), 'ns')\n"
     ]
    },
    {
     "name": "stdout",
     "output_type": "stream",
     "text": [
      "\n",
      "\n",
      "24039.78024820916\n"
     ]
    },
    {
     "name": "stderr",
     "output_type": "stream",
     "text": [
      "/tmp/ipykernel_3483/4039208885.py:11: DeprecationWarning: __array__ implementation doesn't accept a copy keyword, so passing copy=False failed. __array__ must implement 'dtype' and 'copy' keyword arguments.\n",
      "  t_arr = pq.Quantity(np.array(self.Tval[q_filter] + self.templTime[q_filter]), 'ns')\n"
     ]
    },
    {
     "name": "stdout",
     "output_type": "stream",
     "text": [
      "83526.140632813387198.43982858756\n",
      "\n"
     ]
    },
    {
     "name": "stderr",
     "output_type": "stream",
     "text": [
      "/tmp/ipykernel_3483/4039208885.py:11: DeprecationWarning: __array__ implementation doesn't accept a copy keyword, so passing copy=False failed. __array__ must implement 'dtype' and 'copy' keyword arguments.\n",
      "  t_arr = pq.Quantity(np.array(self.Tval[q_filter] + self.templTime[q_filter]), 'ns')\n"
     ]
    },
    {
     "name": "stdout",
     "output_type": "stream",
     "text": [
      "\n",
      "58545.6751499083265769.71086292864\n"
     ]
    },
    {
     "name": "stderr",
     "output_type": "stream",
     "text": [
      "/tmp/ipykernel_3483/4039208885.py:11: DeprecationWarning: __array__ implementation doesn't accept a copy keyword, so passing copy=False failed. __array__ must implement 'dtype' and 'copy' keyword arguments.\n",
      "  t_arr = pq.Quantity(np.array(self.Tval[q_filter] + self.templTime[q_filter]), 'ns')\n",
      "/tmp/ipykernel_3483/4039208885.py:11: DeprecationWarning: __array__ implementation doesn't accept a copy keyword, so passing copy=False failed. __array__ must implement 'dtype' and 'copy' keyword arguments.\n",
      "  t_arr = pq.Quantity(np.array(self.Tval[q_filter] + self.templTime[q_filter]), 'ns')\n",
      "/tmp/ipykernel_3483/4039208885.py:11: DeprecationWarning: __array__ implementation doesn't accept a copy keyword, so passing copy=False failed. __array__ must implement 'dtype' and 'copy' keyword arguments.\n",
      "  t_arr = pq.Quantity(np.array(self.Tval[q_filter] + self.templTime[q_filter]), 'ns')\n"
     ]
    },
    {
     "name": "stdout",
     "output_type": "stream",
     "text": [
      "\n"
     ]
    },
    {
     "name": "stderr",
     "output_type": "stream",
     "text": [
      "/tmp/ipykernel_3483/4039208885.py:11: DeprecationWarning: __array__ implementation doesn't accept a copy keyword, so passing copy=False failed. __array__ must implement 'dtype' and 'copy' keyword arguments.\n",
      "  t_arr = pq.Quantity(np.array(self.Tval[q_filter] + self.templTime[q_filter]), 'ns')\n",
      "/tmp/ipykernel_3483/4039208885.py:11: DeprecationWarning: __array__ implementation doesn't accept a copy keyword, so passing copy=False failed. __array__ must implement 'dtype' and 'copy' keyword arguments.\n",
      "  t_arr = pq.Quantity(np.array(self.Tval[q_filter] + self.templTime[q_filter]), 'ns')\n"
     ]
    },
    {
     "name": "stdout",
     "output_type": "stream",
     "text": [
      "\n"
     ]
    },
    {
     "name": "stderr",
     "output_type": "stream",
     "text": [
      "/tmp/ipykernel_3483/4039208885.py:11: DeprecationWarning: __array__ implementation doesn't accept a copy keyword, so passing copy=False failed. __array__ must implement 'dtype' and 'copy' keyword arguments.\n",
      "  t_arr = pq.Quantity(np.array(self.Tval[q_filter] + self.templTime[q_filter]), 'ns')\n",
      "/tmp/ipykernel_3483/4039208885.py:11: DeprecationWarning: __array__ implementation doesn't accept a copy keyword, so passing copy=False failed. __array__ must implement 'dtype' and 'copy' keyword arguments.\n",
      "  t_arr = pq.Quantity(np.array(self.Tval[q_filter] + self.templTime[q_filter]), 'ns')\n",
      "/tmp/ipykernel_3483/4039208885.py:11: DeprecationWarning: __array__ implementation doesn't accept a copy keyword, so passing copy=False failed. __array__ must implement 'dtype' and 'copy' keyword arguments.\n",
      "  t_arr = pq.Quantity(np.array(self.Tval[q_filter] + self.templTime[q_filter]), 'ns')\n",
      "/tmp/ipykernel_3483/4039208885.py:11: DeprecationWarning: __array__ implementation doesn't accept a copy keyword, so passing copy=False failed. __array__ must implement 'dtype' and 'copy' keyword arguments.\n",
      "  t_arr = pq.Quantity(np.array(self.Tval[q_filter] + self.templTime[q_filter]), 'ns')\n",
      "/tmp/ipykernel_3483/4039208885.py:11: DeprecationWarning: __array__ implementation doesn't accept a copy keyword, so passing copy=False failed. __array__ must implement 'dtype' and 'copy' keyword arguments.\n",
      "  t_arr = pq.Quantity(np.array(self.Tval[q_filter] + self.templTime[q_filter]), 'ns')\n"
     ]
    },
    {
     "name": "stdout",
     "output_type": "stream",
     "text": [
      "73261.4965572824191202.76438663091"
     ]
    },
    {
     "name": "stderr",
     "output_type": "stream",
     "text": [
      "/tmp/ipykernel_3483/4039208885.py:11: DeprecationWarning: __array__ implementation doesn't accept a copy keyword, so passing copy=False failed. __array__ must implement 'dtype' and 'copy' keyword arguments.\n",
      "  t_arr = pq.Quantity(np.array(self.Tval[q_filter] + self.templTime[q_filter]), 'ns')\n"
     ]
    },
    {
     "name": "stdout",
     "output_type": "stream",
     "text": [
      "47718.7403257283\n",
      "\n",
      "24056.976348986067\n",
      "12570.39381009431889138.0049309995519373.60070098464743648.479120913144937.215358055992588708.66107307312\n",
      "\n",
      "\n",
      "\n",
      "\n",
      "\n",
      "46421.56356363914\n",
      "\n"
     ]
    },
    {
     "ename": "ValueError",
     "evalue": "Unable to convert between units of \"dimensionless\" and \"ns\"",
     "output_type": "error",
     "traceback": [
      "\u001b[0;31m---------------------------------------------------------------------------\u001b[0m",
      "\u001b[0;31m_RemoteTraceback\u001b[0m                          Traceback (most recent call last)",
      "\u001b[0;31m_RemoteTraceback\u001b[0m: \n\"\"\"\nTraceback (most recent call last):\n  File \"/home/gboccia/.conda/envs/t_cal/lib/python3.12/site-packages/quantities/quantity.py\", line 221, in rescale\n    cf = get_conversion_factor(from_u, to_u)\n         ^^^^^^^^^^^^^^^^^^^^^^^^^^^^^^^^^^^\n  File \"/home/gboccia/.conda/envs/t_cal/lib/python3.12/site-packages/quantities/quantity.py\", line 53, in get_conversion_factor\n    assert from_u.dimensionality == to_u.dimensionality\n           ^^^^^^^^^^^^^^^^^^^^^^^^^^^^^^^^^^^^^^^^^^^^\nAssertionError\n\nDuring handling of the above exception, another exception occurred:\n\nTraceback (most recent call last):\n  File \"/home/gboccia/.conda/envs/t_cal/lib/python3.12/concurrent/futures/process.py\", line 263, in _process_worker\n    r = call_item.fn(*call_item.args, **call_item.kwargs)\n        ^^^^^^^^^^^^^^^^^^^^^^^^^^^^^^^^^^^^^^^^^^^^^^^^^\n  File \"/home/gboccia/.conda/envs/t_cal/lib/python3.12/concurrent/futures/process.py\", line 212, in _process_chunk\n    return [fn(*args) for args in chunk]\n            ^^^^^^^^^\n  File \"/tmp/ipykernel_3483/3310878364.py\", line 9, in get_t_residuals\n    return event.t_residuals()\n           ^^^^^^^^^^^^^^^^^^^\n  File \"/tmp/ipykernel_3483/4039208885.py\", line 27, in t_residuals\n    t_res[(row, col, sipm)] = time + y / (pq.c * cos_theta) - t_0_ev\n                              ~~~~~~~~~~~~~~~~~~~~~~~~~~~~~~^~~~~~~~\n  File \"/home/gboccia/.conda/envs/t_cal/lib/python3.12/site-packages/quantities/quantity.py\", line 63, in g\n    other = other.rescale(self.units, dtype=np.result_type(self.dtype, other.dtype))\n            ^^^^^^^^^^^^^^^^^^^^^^^^^^^^^^^^^^^^^^^^^^^^^^^^^^^^^^^^^^^^^^^^^^^^^^^^\n  File \"/home/gboccia/.conda/envs/t_cal/lib/python3.12/site-packages/quantities/quantity.py\", line 223, in rescale\n    raise ValueError(\nValueError: Unable to convert between units of \"dimensionless\" and \"ns\"\n\"\"\"",
      "\nThe above exception was the direct cause of the following exception:\n",
      "\u001b[0;31mValueError\u001b[0m                                Traceback (most recent call last)",
      "Cell \u001b[0;32mIn[84], line 12\u001b[0m\n\u001b[1;32m      9\u001b[0m     \u001b[38;5;28;01mreturn\u001b[39;00m event\u001b[38;5;241m.\u001b[39mt_residuals()\n\u001b[1;32m     11\u001b[0m \u001b[38;5;28;01mwith\u001b[39;00m ProcessPoolExecutor() \u001b[38;5;28;01mas\u001b[39;00m executor:\n\u001b[0;32m---> 12\u001b[0m     residuals \u001b[38;5;241m=\u001b[39m \u001b[38;5;28;43mlist\u001b[39;49m\u001b[43m(\u001b[49m\u001b[43mexecutor\u001b[49m\u001b[38;5;241;43m.\u001b[39;49m\u001b[43mmap\u001b[49m\u001b[43m(\u001b[49m\u001b[43mget_t_residuals\u001b[49m\u001b[43m,\u001b[49m\u001b[43m \u001b[49m\u001b[43mfiltered_events\u001b[49m\u001b[43m)\u001b[49m\u001b[43m)\u001b[49m\n",
      "File \u001b[0;32m~/.conda/envs/t_cal/lib/python3.12/concurrent/futures/process.py:642\u001b[0m, in \u001b[0;36m_chain_from_iterable_of_lists\u001b[0;34m(iterable)\u001b[0m\n\u001b[1;32m    636\u001b[0m \u001b[38;5;28;01mdef\u001b[39;00m \u001b[38;5;21m_chain_from_iterable_of_lists\u001b[39m(iterable):\n\u001b[1;32m    637\u001b[0m \u001b[38;5;250m    \u001b[39m\u001b[38;5;124;03m\"\"\"\u001b[39;00m\n\u001b[1;32m    638\u001b[0m \u001b[38;5;124;03m    Specialized implementation of itertools.chain.from_iterable.\u001b[39;00m\n\u001b[1;32m    639\u001b[0m \u001b[38;5;124;03m    Each item in *iterable* should be a list.  This function is\u001b[39;00m\n\u001b[1;32m    640\u001b[0m \u001b[38;5;124;03m    careful not to keep references to yielded objects.\u001b[39;00m\n\u001b[1;32m    641\u001b[0m \u001b[38;5;124;03m    \"\"\"\u001b[39;00m\n\u001b[0;32m--> 642\u001b[0m \u001b[43m    \u001b[49m\u001b[38;5;28;43;01mfor\u001b[39;49;00m\u001b[43m \u001b[49m\u001b[43melement\u001b[49m\u001b[43m \u001b[49m\u001b[38;5;129;43;01min\u001b[39;49;00m\u001b[43m \u001b[49m\u001b[43miterable\u001b[49m\u001b[43m:\u001b[49m\n\u001b[1;32m    643\u001b[0m \u001b[43m        \u001b[49m\u001b[43melement\u001b[49m\u001b[38;5;241;43m.\u001b[39;49m\u001b[43mreverse\u001b[49m\u001b[43m(\u001b[49m\u001b[43m)\u001b[49m\n\u001b[1;32m    644\u001b[0m \u001b[43m        \u001b[49m\u001b[38;5;28;43;01mwhile\u001b[39;49;00m\u001b[43m \u001b[49m\u001b[43melement\u001b[49m\u001b[43m:\u001b[49m\n",
      "File \u001b[0;32m~/.conda/envs/t_cal/lib/python3.12/concurrent/futures/_base.py:619\u001b[0m, in \u001b[0;36mExecutor.map.<locals>.result_iterator\u001b[0;34m()\u001b[0m\n\u001b[1;32m    616\u001b[0m \u001b[38;5;28;01mwhile\u001b[39;00m fs:\n\u001b[1;32m    617\u001b[0m     \u001b[38;5;66;03m# Careful not to keep a reference to the popped future\u001b[39;00m\n\u001b[1;32m    618\u001b[0m     \u001b[38;5;28;01mif\u001b[39;00m timeout \u001b[38;5;129;01mis\u001b[39;00m \u001b[38;5;28;01mNone\u001b[39;00m:\n\u001b[0;32m--> 619\u001b[0m         \u001b[38;5;28;01myield\u001b[39;00m \u001b[43m_result_or_cancel\u001b[49m\u001b[43m(\u001b[49m\u001b[43mfs\u001b[49m\u001b[38;5;241;43m.\u001b[39;49m\u001b[43mpop\u001b[49m\u001b[43m(\u001b[49m\u001b[43m)\u001b[49m\u001b[43m)\u001b[49m\n\u001b[1;32m    620\u001b[0m     \u001b[38;5;28;01melse\u001b[39;00m:\n\u001b[1;32m    621\u001b[0m         \u001b[38;5;28;01myield\u001b[39;00m _result_or_cancel(fs\u001b[38;5;241m.\u001b[39mpop(), end_time \u001b[38;5;241m-\u001b[39m time\u001b[38;5;241m.\u001b[39mmonotonic())\n",
      "File \u001b[0;32m~/.conda/envs/t_cal/lib/python3.12/concurrent/futures/_base.py:317\u001b[0m, in \u001b[0;36m_result_or_cancel\u001b[0;34m(***failed resolving arguments***)\u001b[0m\n\u001b[1;32m    315\u001b[0m \u001b[38;5;28;01mtry\u001b[39;00m:\n\u001b[1;32m    316\u001b[0m     \u001b[38;5;28;01mtry\u001b[39;00m:\n\u001b[0;32m--> 317\u001b[0m         \u001b[38;5;28;01mreturn\u001b[39;00m \u001b[43mfut\u001b[49m\u001b[38;5;241;43m.\u001b[39;49m\u001b[43mresult\u001b[49m\u001b[43m(\u001b[49m\u001b[43mtimeout\u001b[49m\u001b[43m)\u001b[49m\n\u001b[1;32m    318\u001b[0m     \u001b[38;5;28;01mfinally\u001b[39;00m:\n\u001b[1;32m    319\u001b[0m         fut\u001b[38;5;241m.\u001b[39mcancel()\n",
      "File \u001b[0;32m~/.conda/envs/t_cal/lib/python3.12/concurrent/futures/_base.py:456\u001b[0m, in \u001b[0;36mFuture.result\u001b[0;34m(self, timeout)\u001b[0m\n\u001b[1;32m    454\u001b[0m     \u001b[38;5;28;01mraise\u001b[39;00m CancelledError()\n\u001b[1;32m    455\u001b[0m \u001b[38;5;28;01melif\u001b[39;00m \u001b[38;5;28mself\u001b[39m\u001b[38;5;241m.\u001b[39m_state \u001b[38;5;241m==\u001b[39m FINISHED:\n\u001b[0;32m--> 456\u001b[0m     \u001b[38;5;28;01mreturn\u001b[39;00m \u001b[38;5;28;43mself\u001b[39;49m\u001b[38;5;241;43m.\u001b[39;49m\u001b[43m__get_result\u001b[49m\u001b[43m(\u001b[49m\u001b[43m)\u001b[49m\n\u001b[1;32m    457\u001b[0m \u001b[38;5;28;01melse\u001b[39;00m:\n\u001b[1;32m    458\u001b[0m     \u001b[38;5;28;01mraise\u001b[39;00m \u001b[38;5;167;01mTimeoutError\u001b[39;00m()\n",
      "File \u001b[0;32m~/.conda/envs/t_cal/lib/python3.12/concurrent/futures/_base.py:401\u001b[0m, in \u001b[0;36mFuture.__get_result\u001b[0;34m(self)\u001b[0m\n\u001b[1;32m    399\u001b[0m \u001b[38;5;28;01mif\u001b[39;00m \u001b[38;5;28mself\u001b[39m\u001b[38;5;241m.\u001b[39m_exception:\n\u001b[1;32m    400\u001b[0m     \u001b[38;5;28;01mtry\u001b[39;00m:\n\u001b[0;32m--> 401\u001b[0m         \u001b[38;5;28;01mraise\u001b[39;00m \u001b[38;5;28mself\u001b[39m\u001b[38;5;241m.\u001b[39m_exception\n\u001b[1;32m    402\u001b[0m     \u001b[38;5;28;01mfinally\u001b[39;00m:\n\u001b[1;32m    403\u001b[0m         \u001b[38;5;66;03m# Break a reference cycle with the exception in self._exception\u001b[39;00m\n\u001b[1;32m    404\u001b[0m         \u001b[38;5;28mself\u001b[39m \u001b[38;5;241m=\u001b[39m \u001b[38;5;28;01mNone\u001b[39;00m\n",
      "\u001b[0;31mValueError\u001b[0m: Unable to convert between units of \"dimensionless\" and \"ns\""
     ]
    }
   ],
   "source": [
    "#Apply the filters and compute the residuals\n",
    "slope_cut = np.sqrt(1 / COS_THETA_CUT - 1)\n",
    "filters = {'n_min' : tree.nHits > HITNUM_CUT,\n",
    "           'slope_min' : abs(tree.slope) > slope_cut,\n",
    "           'chi_sq' : tree.chi_sq / tree.ndf < CHI_ON_NDF_CUT}\n",
    "filtered_events = tree[filters['n_min'] & filters['slope_min'] & filters['chi_sq']]\n",
    "filtered_events = ak.drop_none(filtered_events)\n",
    "def get_t_residuals(event) -> dict | None:\n",
    "    return event.t_residuals()\n",
    "\n",
    "with ProcessPoolExecutor() as executor:\n",
    "    residuals = list(executor.map(get_t_residuals, filtered_events))"
   ]
  },
  {
   "cell_type": "code",
   "execution_count": null,
   "metadata": {},
   "outputs": [],
   "source": [
    "residuals"
   ]
  }
 ],
 "metadata": {
  "kernelspec": {
   "display_name": "Python [conda env:.conda-t_cal]",
   "language": "python",
   "name": "conda-env-.conda-t_cal-py"
  },
  "language_info": {
   "codemirror_mode": {
    "name": "ipython",
    "version": 3
   },
   "file_extension": ".py",
   "mimetype": "text/x-python",
   "name": "python",
   "nbconvert_exporter": "python",
   "pygments_lexer": "ipython3",
   "version": "3.12.5"
  }
 },
 "nbformat": 4,
 "nbformat_minor": 4
}
