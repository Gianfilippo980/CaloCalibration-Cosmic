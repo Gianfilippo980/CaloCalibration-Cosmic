{
 "cells": [
  {
   "cell_type": "markdown",
   "metadata": {},
   "source": [
    "Time Calibration of the Mu2e Calorimeter\n",
    "\n",
    "by Giacinto boccia\n",
    "\n",
    "version 0.1 | 2024-09-05"
   ]
  },
  {
   "cell_type": "code",
   "execution_count": 1,
   "metadata": {},
   "outputs": [],
   "source": [
    "import numpy as np\n",
    "import awkward as ak\n",
    "import uproot\n",
    "import quantities as pq\n",
    "from concurrent.futures import ProcessPoolExecutor"
   ]
  },
  {
   "cell_type": "code",
   "execution_count": 2,
   "metadata": {},
   "outputs": [],
   "source": [
    "#Cut parameters\n",
    "HITNUM_CUT = 1\n",
    "Q_MIN_CUT = 4000\n",
    "Q_MAX_CUT = 8000\n",
    "COS_THETA_CUT = 0.9\n",
    "CHI_ON_NDF_CUT = 2000"
   ]
  },
  {
   "cell_type": "code",
   "execution_count": 3,
   "metadata": {},
   "outputs": [],
   "source": [
    "#Input\n",
    "hits_path = input(\"Hits file to process:\")\n",
    "cal_path = input(\"Starting caibration file:\") or False\n",
    "n_runs = input(\"Iterations to perform:\")\n",
    "#Name of the tree inside the file\n",
    "hits_path += \":sidet\""
   ]
  },
  {
   "cell_type": "code",
   "execution_count": 4,
   "metadata": {},
   "outputs": [],
   "source": [
    "#Opening the calibration start-point file\n",
    "if cal_path:\n",
    "    print(\"Starting calibration file not yet supported\")\n",
    "    cal_corection = pq.Quantity(np.zeros((36, 28, 2)), 'ns')\n",
    "else:\n",
    "    #The time-correction array is [rows, columns, SiPM] shaped\n",
    "    cal_corection = pq.Quantity(np.zeros((36, 28, 2)), 'ns')"
   ]
  },
  {
   "cell_type": "code",
   "execution_count": 5,
   "metadata": {},
   "outputs": [],
   "source": [
    "#Loading the tree, start by defining custom event class that can compute residurals\n",
    "class Cosmic(ak.Record):     \n",
    "    def t_residuals(self) -> dict | None:\n",
    "        #returns a dictionary with '(row, col, sipm)' as key and the residual as value\n",
    "        #Filters on the hit charge \n",
    "        q_min_fitler = self.Qval > Q_MIN_CUT\n",
    "        q_max_fitler = self.Qval < Q_MAX_CUT\n",
    "        q_filter = q_max_fitler & q_min_fitler\n",
    "        if self.slope:\n",
    "            #Select events that have a not \"None\" slope. For each hit return the time residual\n",
    "            cos_theta = 1 / np.sqrt(1 + self.slope ** 2)\n",
    "            t_arr = pq.Quantity(np.array(self.Tval[q_filter] + self.templTime[q_filter]), 'ns')\n",
    "            t_res = dict()\n",
    "            for i, [row, col, sipm] in enumerate(zip(self.iRow[q_filter],\n",
    "                                                     self.iCol[q_filter],\n",
    "                                                     self.SiPM[q_filter])):\n",
    "                #Apply current time corrections\n",
    "                t_arr[i] -= cal_corection[row, col, sipm]\n",
    "            #I can't really understand why this np.average operation is losing the ns, \n",
    "            #assigning them again schouldn't be necessary, but it is\n",
    "            t_0_ev = pq.Quantity(np.average(t_arr, weights= self.Qval[q_filter]), 'ns')\n",
    "            for time, y, row, col, sipm in zip(t_arr, \n",
    "                                               self.Yval[q_filter],\n",
    "                                               self.iRow[q_filter],\n",
    "                                               self.iCol[q_filter],\n",
    "                                               self.SiPM[q_filter]):\n",
    "                #Each residual is stored in the dictionary with '(row, col, sipm)' as key\n",
    "                y = y * pq.cm\n",
    "                t_res[str((row, col, sipm))] = time + y / (pq.c * cos_theta) - t_0_ev\n",
    "            return t_res\n",
    "        else:\n",
    "            return None                \n",
    "ak.behavior[\"cosmic\"] = Cosmic\n",
    "        \n",
    "#Loading tree in an array structure, we only need some of the branches\n",
    "branches = (\"nrun\", \"nsubrun\", \"evnum\", \"nHits\", \"iRow\", \"iCol\", \"SiPM\", \"Xval\", \"Yval\", \"Qval\", \"Tval\", \"templTime\")\n",
    "with uproot.open(hits_path) as file:\n",
    "    tree = file.arrays(filter_name = branches, entry_stop= 1000)\n",
    "    \n",
    "#Now change the array so that it uses the custom class defned above\n",
    "tree = ak.Array(tree, with_name= \"cosmic\")"
   ]
  },
  {
   "cell_type": "code",
   "execution_count": 6,
   "metadata": {},
   "outputs": [],
   "source": [
    "#To get the parameters, each event is fitted\n",
    "def linear_fit(event) -> dict[str, np.double | int]:\n",
    "    q_min_fitler = event.Qval > Q_MIN_CUT\n",
    "    q_max_fitler = event.Qval < Q_MAX_CUT\n",
    "    x_arr = event.Xval[q_min_fitler & q_max_fitler]\n",
    "    y_arr = event.Yval[q_min_fitler & q_max_fitler]\n",
    "    if len(x_arr) > 1:\n",
    "        #Events that are not empty\n",
    "        if np.max(x_arr) - np.min(x_arr) > 34.4:\n",
    "            #Events that are not vertical\n",
    "            [slope, intercept], residuals, _, _, _ = np.polyfit(x_arr, y_arr, deg= 1, full= True)\n",
    "            chi_sq : np.double = np.sum(residuals)\n",
    "            ndf = event.nHits - 2\n",
    "            return {'vertical' : False, 'slope' : slope, 'intercept' : intercept, 'chi_sq' : chi_sq, 'ndf' : ndf}\n",
    "        else:\n",
    "            #Vertical events get flagged\n",
    "            return {'vertical': True, 'slope' : None, 'intercept' : None, 'chi_sq' : None, 'ndf' : None}\n",
    "    else:\n",
    "        return None\n",
    "        \n",
    "with ProcessPoolExecutor() as executor:\n",
    "    fit_results = list(executor.map(linear_fit, tree))\n",
    "fit_results = ak.Array(fit_results)"
   ]
  },
  {
   "cell_type": "code",
   "execution_count": 1,
   "metadata": {},
   "outputs": [
    {
     "ename": "NameError",
     "evalue": "name 'fit_results' is not defined",
     "output_type": "error",
     "traceback": [
      "\u001b[0;31m---------------------------------------------------------------------------\u001b[0m",
      "\u001b[0;31mNameError\u001b[0m                                 Traceback (most recent call last)",
      "Cell \u001b[0;32mIn[1], line 2\u001b[0m\n\u001b[1;32m      1\u001b[0m \u001b[38;5;66;03m#Add the fit results to the tree\u001b[39;00m\n\u001b[0;32m----> 2\u001b[0m \u001b[38;5;28;01mif\u001b[39;00m \u001b[38;5;28mhasattr\u001b[39m(\u001b[43mfit_results\u001b[49m, \u001b[38;5;124m'\u001b[39m\u001b[38;5;124mvertical\u001b[39m\u001b[38;5;124m'\u001b[39m):\n\u001b[1;32m      3\u001b[0m     tree \u001b[38;5;241m=\u001b[39m ak\u001b[38;5;241m.\u001b[39mwith_field(tree, fit_results\u001b[38;5;241m.\u001b[39mvertical, \u001b[38;5;124m\"\u001b[39m\u001b[38;5;124mvertical\u001b[39m\u001b[38;5;124m\"\u001b[39m)\n\u001b[1;32m      4\u001b[0m     tree \u001b[38;5;241m=\u001b[39m ak\u001b[38;5;241m.\u001b[39mwith_field(tree, fit_results\u001b[38;5;241m.\u001b[39mslope, \u001b[38;5;124m\"\u001b[39m\u001b[38;5;124mslope\u001b[39m\u001b[38;5;124m\"\u001b[39m)\n",
      "\u001b[0;31mNameError\u001b[0m: name 'fit_results' is not defined"
     ]
    }
   ],
   "source": [
    "#Add the fit results to the tree\n",
    "if hasattr(fit_results, 'vertical'):\n",
    "    tree = ak.with_field(tree, fit_results.vertical, \"vertical\")\n",
    "    tree = ak.with_field(tree, fit_results.slope, \"slope\")\n",
    "    tree = ak.with_field(tree, fit_results.intercept, \"intercept\")\n",
    "    tree = ak.with_field(tree, fit_results.chi_sq, \"chi_sq\")\n",
    "    tree = ak.with_field(tree, fit_results.ndf, \"ndf\")"
   ]
  },
  {
   "cell_type": "code",
   "execution_count": 8,
   "metadata": {},
   "outputs": [
    {
     "name": "stderr",
     "output_type": "stream",
     "text": [
      "/tmp/ipykernel_13363/3312452371.py:12: DeprecationWarning: __array__ implementation doesn't accept a copy keyword, so passing copy=False failed. __array__ must implement 'dtype' and 'copy' keyword arguments.\n",
      "  t_arr = pq.Quantity(np.array(self.Tval[q_filter] + self.templTime[q_filter]), 'ns')\n",
      "/tmp/ipykernel_13363/3312452371.py:12: DeprecationWarning: __array__ implementation doesn't accept a copy keyword, so passing copy=False failed. __array__ must implement 'dtype' and 'copy' keyword arguments.\n",
      "  t_arr = pq.Quantity(np.array(self.Tval[q_filter] + self.templTime[q_filter]), 'ns')\n",
      "/tmp/ipykernel_13363/3312452371.py:12: DeprecationWarning: __array__ implementation doesn't accept a copy keyword, so passing copy=False failed. __array__ must implement 'dtype' and 'copy' keyword arguments.\n",
      "  t_arr = pq.Quantity(np.array(self.Tval[q_filter] + self.templTime[q_filter]), 'ns')\n",
      "/tmp/ipykernel_13363/3312452371.py:12: DeprecationWarning: __array__ implementation doesn't accept a copy keyword, so passing copy=False failed. __array__ must implement 'dtype' and 'copy' keyword arguments.\n",
      "  t_arr = pq.Quantity(np.array(self.Tval[q_filter] + self.templTime[q_filter]), 'ns')\n",
      "/tmp/ipykernel_13363/3312452371.py:12: DeprecationWarning: __array__ implementation doesn't accept a copy keyword, so passing copy=False failed. __array__ must implement 'dtype' and 'copy' keyword arguments.\n",
      "  t_arr = pq.Quantity(np.array(self.Tval[q_filter] + self.templTime[q_filter]), 'ns')\n",
      "/tmp/ipykernel_13363/3312452371.py:12: DeprecationWarning: __array__ implementation doesn't accept a copy keyword, so passing copy=False failed. __array__ must implement 'dtype' and 'copy' keyword arguments.\n",
      "  t_arr = pq.Quantity(np.array(self.Tval[q_filter] + self.templTime[q_filter]), 'ns')\n",
      "/tmp/ipykernel_13363/3312452371.py:12: DeprecationWarning: __array__ implementation doesn't accept a copy keyword, so passing copy=False failed. __array__ must implement 'dtype' and 'copy' keyword arguments.\n",
      "  t_arr = pq.Quantity(np.array(self.Tval[q_filter] + self.templTime[q_filter]), 'ns')\n",
      "/tmp/ipykernel_13363/3312452371.py:12: DeprecationWarning: __array__ implementation doesn't accept a copy keyword, so passing copy=False failed. __array__ must implement 'dtype' and 'copy' keyword arguments.\n",
      "  t_arr = pq.Quantity(np.array(self.Tval[q_filter] + self.templTime[q_filter]), 'ns')\n",
      "/tmp/ipykernel_13363/3312452371.py:12: DeprecationWarning: __array__ implementation doesn't accept a copy keyword, so passing copy=False failed. __array__ must implement 'dtype' and 'copy' keyword arguments.\n",
      "  t_arr = pq.Quantity(np.array(self.Tval[q_filter] + self.templTime[q_filter]), 'ns')\n",
      "/tmp/ipykernel_13363/3312452371.py:12: DeprecationWarning: __array__ implementation doesn't accept a copy keyword, so passing copy=False failed. __array__ must implement 'dtype' and 'copy' keyword arguments.\n",
      "  t_arr = pq.Quantity(np.array(self.Tval[q_filter] + self.templTime[q_filter]), 'ns')\n",
      "/tmp/ipykernel_13363/3312452371.py:12: DeprecationWarning: __array__ implementation doesn't accept a copy keyword, so passing copy=False failed. __array__ must implement 'dtype' and 'copy' keyword arguments.\n",
      "  t_arr = pq.Quantity(np.array(self.Tval[q_filter] + self.templTime[q_filter]), 'ns')\n",
      "/tmp/ipykernel_13363/3312452371.py:12: DeprecationWarning: __array__ implementation doesn't accept a copy keyword, so passing copy=False failed. __array__ must implement 'dtype' and 'copy' keyword arguments.\n",
      "  t_arr = pq.Quantity(np.array(self.Tval[q_filter] + self.templTime[q_filter]), 'ns')\n",
      "/tmp/ipykernel_13363/3312452371.py:12: DeprecationWarning: __array__ implementation doesn't accept a copy keyword, so passing copy=False failed. __array__ must implement 'dtype' and 'copy' keyword arguments.\n",
      "  t_arr = pq.Quantity(np.array(self.Tval[q_filter] + self.templTime[q_filter]), 'ns')\n",
      "/tmp/ipykernel_13363/3312452371.py:12: DeprecationWarning: __array__ implementation doesn't accept a copy keyword, so passing copy=False failed. __array__ must implement 'dtype' and 'copy' keyword arguments.\n",
      "  t_arr = pq.Quantity(np.array(self.Tval[q_filter] + self.templTime[q_filter]), 'ns')\n",
      "/tmp/ipykernel_13363/3312452371.py:12: DeprecationWarning: __array__ implementation doesn't accept a copy keyword, so passing copy=False failed. __array__ must implement 'dtype' and 'copy' keyword arguments.\n",
      "  t_arr = pq.Quantity(np.array(self.Tval[q_filter] + self.templTime[q_filter]), 'ns')\n",
      "/tmp/ipykernel_13363/3312452371.py:12: DeprecationWarning: __array__ implementation doesn't accept a copy keyword, so passing copy=False failed. __array__ must implement 'dtype' and 'copy' keyword arguments.\n",
      "  t_arr = pq.Quantity(np.array(self.Tval[q_filter] + self.templTime[q_filter]), 'ns')\n",
      "/tmp/ipykernel_13363/3312452371.py:12: DeprecationWarning: __array__ implementation doesn't accept a copy keyword, so passing copy=False failed. __array__ must implement 'dtype' and 'copy' keyword arguments.\n",
      "  t_arr = pq.Quantity(np.array(self.Tval[q_filter] + self.templTime[q_filter]), 'ns')\n",
      "/tmp/ipykernel_13363/3312452371.py:12: DeprecationWarning: __array__ implementation doesn't accept a copy keyword, so passing copy=False failed. __array__ must implement 'dtype' and 'copy' keyword arguments.\n",
      "  t_arr = pq.Quantity(np.array(self.Tval[q_filter] + self.templTime[q_filter]), 'ns')\n",
      "/tmp/ipykernel_13363/3312452371.py:12: DeprecationWarning: __array__ implementation doesn't accept a copy keyword, so passing copy=False failed. __array__ must implement 'dtype' and 'copy' keyword arguments.\n",
      "  t_arr = pq.Quantity(np.array(self.Tval[q_filter] + self.templTime[q_filter]), 'ns')\n",
      "/tmp/ipykernel_13363/3312452371.py:12: DeprecationWarning: __array__ implementation doesn't accept a copy keyword, so passing copy=False failed. __array__ must implement 'dtype' and 'copy' keyword arguments.\n",
      "  t_arr = pq.Quantity(np.array(self.Tval[q_filter] + self.templTime[q_filter]), 'ns')\n",
      "/tmp/ipykernel_13363/3312452371.py:12: DeprecationWarning: __array__ implementation doesn't accept a copy keyword, so passing copy=False failed. __array__ must implement 'dtype' and 'copy' keyword arguments.\n",
      "  t_arr = pq.Quantity(np.array(self.Tval[q_filter] + self.templTime[q_filter]), 'ns')\n",
      "/tmp/ipykernel_13363/3312452371.py:12: DeprecationWarning: __array__ implementation doesn't accept a copy keyword, so passing copy=False failed. __array__ must implement 'dtype' and 'copy' keyword arguments.\n",
      "  t_arr = pq.Quantity(np.array(self.Tval[q_filter] + self.templTime[q_filter]), 'ns')\n",
      "/tmp/ipykernel_13363/3312452371.py:12: DeprecationWarning: __array__ implementation doesn't accept a copy keyword, so passing copy=False failed. __array__ must implement 'dtype' and 'copy' keyword arguments.\n",
      "  t_arr = pq.Quantity(np.array(self.Tval[q_filter] + self.templTime[q_filter]), 'ns')\n",
      "/tmp/ipykernel_13363/3312452371.py:12: DeprecationWarning: __array__ implementation doesn't accept a copy keyword, so passing copy=False failed. __array__ must implement 'dtype' and 'copy' keyword arguments.\n",
      "  t_arr = pq.Quantity(np.array(self.Tval[q_filter] + self.templTime[q_filter]), 'ns')\n",
      "/tmp/ipykernel_13363/3312452371.py:12: DeprecationWarning: __array__ implementation doesn't accept a copy keyword, so passing copy=False failed. __array__ must implement 'dtype' and 'copy' keyword arguments.\n",
      "  t_arr = pq.Quantity(np.array(self.Tval[q_filter] + self.templTime[q_filter]), 'ns')\n",
      "/tmp/ipykernel_13363/3312452371.py:12: DeprecationWarning: __array__ implementation doesn't accept a copy keyword, so passing copy=False failed. __array__ must implement 'dtype' and 'copy' keyword arguments.\n",
      "  t_arr = pq.Quantity(np.array(self.Tval[q_filter] + self.templTime[q_filter]), 'ns')\n",
      "/tmp/ipykernel_13363/3312452371.py:12: DeprecationWarning: __array__ implementation doesn't accept a copy keyword, so passing copy=False failed. __array__ must implement 'dtype' and 'copy' keyword arguments.\n",
      "  t_arr = pq.Quantity(np.array(self.Tval[q_filter] + self.templTime[q_filter]), 'ns')\n",
      "/tmp/ipykernel_13363/3312452371.py:12: DeprecationWarning: __array__ implementation doesn't accept a copy keyword, so passing copy=False failed. __array__ must implement 'dtype' and 'copy' keyword arguments.\n",
      "  t_arr = pq.Quantity(np.array(self.Tval[q_filter] + self.templTime[q_filter]), 'ns')\n",
      "/tmp/ipykernel_13363/3312452371.py:12: DeprecationWarning: __array__ implementation doesn't accept a copy keyword, so passing copy=False failed. __array__ must implement 'dtype' and 'copy' keyword arguments.\n",
      "  t_arr = pq.Quantity(np.array(self.Tval[q_filter] + self.templTime[q_filter]), 'ns')\n",
      "/tmp/ipykernel_13363/3312452371.py:12: DeprecationWarning: __array__ implementation doesn't accept a copy keyword, so passing copy=False failed. __array__ must implement 'dtype' and 'copy' keyword arguments.\n",
      "  t_arr = pq.Quantity(np.array(self.Tval[q_filter] + self.templTime[q_filter]), 'ns')\n",
      "/tmp/ipykernel_13363/3312452371.py:12: DeprecationWarning: __array__ implementation doesn't accept a copy keyword, so passing copy=False failed. __array__ must implement 'dtype' and 'copy' keyword arguments.\n",
      "  t_arr = pq.Quantity(np.array(self.Tval[q_filter] + self.templTime[q_filter]), 'ns')\n",
      "/tmp/ipykernel_13363/3312452371.py:12: DeprecationWarning: __array__ implementation doesn't accept a copy keyword, so passing copy=False failed. __array__ must implement 'dtype' and 'copy' keyword arguments.\n",
      "  t_arr = pq.Quantity(np.array(self.Tval[q_filter] + self.templTime[q_filter]), 'ns')\n",
      "/tmp/ipykernel_13363/3312452371.py:12: DeprecationWarning: __array__ implementation doesn't accept a copy keyword, so passing copy=False failed. __array__ must implement 'dtype' and 'copy' keyword arguments.\n",
      "  t_arr = pq.Quantity(np.array(self.Tval[q_filter] + self.templTime[q_filter]), 'ns')\n",
      "/tmp/ipykernel_13363/3312452371.py:12: DeprecationWarning: __array__ implementation doesn't accept a copy keyword, so passing copy=False failed. __array__ must implement 'dtype' and 'copy' keyword arguments.\n",
      "  t_arr = pq.Quantity(np.array(self.Tval[q_filter] + self.templTime[q_filter]), 'ns')\n",
      "/tmp/ipykernel_13363/3312452371.py:12: DeprecationWarning: __array__ implementation doesn't accept a copy keyword, so passing copy=False failed. __array__ must implement 'dtype' and 'copy' keyword arguments.\n",
      "  t_arr = pq.Quantity(np.array(self.Tval[q_filter] + self.templTime[q_filter]), 'ns')\n",
      "/tmp/ipykernel_13363/3312452371.py:12: DeprecationWarning: __array__ implementation doesn't accept a copy keyword, so passing copy=False failed. __array__ must implement 'dtype' and 'copy' keyword arguments.\n",
      "  t_arr = pq.Quantity(np.array(self.Tval[q_filter] + self.templTime[q_filter]), 'ns')\n",
      "/tmp/ipykernel_13363/3312452371.py:12: DeprecationWarning: __array__ implementation doesn't accept a copy keyword, so passing copy=False failed. __array__ must implement 'dtype' and 'copy' keyword arguments.\n",
      "  t_arr = pq.Quantity(np.array(self.Tval[q_filter] + self.templTime[q_filter]), 'ns')\n",
      "/tmp/ipykernel_13363/3312452371.py:12: DeprecationWarning: __array__ implementation doesn't accept a copy keyword, so passing copy=False failed. __array__ must implement 'dtype' and 'copy' keyword arguments.\n",
      "  t_arr = pq.Quantity(np.array(self.Tval[q_filter] + self.templTime[q_filter]), 'ns')\n",
      "/tmp/ipykernel_13363/3312452371.py:12: DeprecationWarning: __array__ implementation doesn't accept a copy keyword, so passing copy=False failed. __array__ must implement 'dtype' and 'copy' keyword arguments.\n",
      "  t_arr = pq.Quantity(np.array(self.Tval[q_filter] + self.templTime[q_filter]), 'ns')\n",
      "/tmp/ipykernel_13363/3312452371.py:12: DeprecationWarning: __array__ implementation doesn't accept a copy keyword, so passing copy=False failed. __array__ must implement 'dtype' and 'copy' keyword arguments.\n",
      "  t_arr = pq.Quantity(np.array(self.Tval[q_filter] + self.templTime[q_filter]), 'ns')\n",
      "/tmp/ipykernel_13363/3312452371.py:12: DeprecationWarning: __array__ implementation doesn't accept a copy keyword, so passing copy=False failed. __array__ must implement 'dtype' and 'copy' keyword arguments.\n",
      "  t_arr = pq.Quantity(np.array(self.Tval[q_filter] + self.templTime[q_filter]), 'ns')\n",
      "/tmp/ipykernel_13363/3312452371.py:12: DeprecationWarning: __array__ implementation doesn't accept a copy keyword, so passing copy=False failed. __array__ must implement 'dtype' and 'copy' keyword arguments.\n",
      "  t_arr = pq.Quantity(np.array(self.Tval[q_filter] + self.templTime[q_filter]), 'ns')\n",
      "/tmp/ipykernel_13363/3312452371.py:12: DeprecationWarning: __array__ implementation doesn't accept a copy keyword, so passing copy=False failed. __array__ must implement 'dtype' and 'copy' keyword arguments.\n",
      "  t_arr = pq.Quantity(np.array(self.Tval[q_filter] + self.templTime[q_filter]), 'ns')\n",
      "/tmp/ipykernel_13363/3312452371.py:12: DeprecationWarning: __array__ implementation doesn't accept a copy keyword, so passing copy=False failed. __array__ must implement 'dtype' and 'copy' keyword arguments.\n",
      "  t_arr = pq.Quantity(np.array(self.Tval[q_filter] + self.templTime[q_filter]), 'ns')\n",
      "/tmp/ipykernel_13363/3312452371.py:12: DeprecationWarning: __array__ implementation doesn't accept a copy keyword, so passing copy=False failed. __array__ must implement 'dtype' and 'copy' keyword arguments.\n",
      "  t_arr = pq.Quantity(np.array(self.Tval[q_filter] + self.templTime[q_filter]), 'ns')\n",
      "/tmp/ipykernel_13363/3312452371.py:12: DeprecationWarning: __array__ implementation doesn't accept a copy keyword, so passing copy=False failed. __array__ must implement 'dtype' and 'copy' keyword arguments.\n",
      "  t_arr = pq.Quantity(np.array(self.Tval[q_filter] + self.templTime[q_filter]), 'ns')\n",
      "/tmp/ipykernel_13363/3312452371.py:12: DeprecationWarning: __array__ implementation doesn't accept a copy keyword, so passing copy=False failed. __array__ must implement 'dtype' and 'copy' keyword arguments.\n",
      "  t_arr = pq.Quantity(np.array(self.Tval[q_filter] + self.templTime[q_filter]), 'ns')\n",
      "/tmp/ipykernel_13363/3312452371.py:12: DeprecationWarning: __array__ implementation doesn't accept a copy keyword, so passing copy=False failed. __array__ must implement 'dtype' and 'copy' keyword arguments.\n",
      "  t_arr = pq.Quantity(np.array(self.Tval[q_filter] + self.templTime[q_filter]), 'ns')\n",
      "/tmp/ipykernel_13363/3312452371.py:12: DeprecationWarning: __array__ implementation doesn't accept a copy keyword, so passing copy=False failed. __array__ must implement 'dtype' and 'copy' keyword arguments.\n",
      "  t_arr = pq.Quantity(np.array(self.Tval[q_filter] + self.templTime[q_filter]), 'ns')\n",
      "/tmp/ipykernel_13363/3312452371.py:12: DeprecationWarning: __array__ implementation doesn't accept a copy keyword, so passing copy=False failed. __array__ must implement 'dtype' and 'copy' keyword arguments.\n",
      "  t_arr = pq.Quantity(np.array(self.Tval[q_filter] + self.templTime[q_filter]), 'ns')\n",
      "/tmp/ipykernel_13363/3312452371.py:12: DeprecationWarning: __array__ implementation doesn't accept a copy keyword, so passing copy=False failed. __array__ must implement 'dtype' and 'copy' keyword arguments.\n",
      "  t_arr = pq.Quantity(np.array(self.Tval[q_filter] + self.templTime[q_filter]), 'ns')\n",
      "/tmp/ipykernel_13363/3312452371.py:12: DeprecationWarning: __array__ implementation doesn't accept a copy keyword, so passing copy=False failed. __array__ must implement 'dtype' and 'copy' keyword arguments.\n",
      "  t_arr = pq.Quantity(np.array(self.Tval[q_filter] + self.templTime[q_filter]), 'ns')\n",
      "/tmp/ipykernel_13363/3312452371.py:12: DeprecationWarning: __array__ implementation doesn't accept a copy keyword, so passing copy=False failed. __array__ must implement 'dtype' and 'copy' keyword arguments.\n",
      "  t_arr = pq.Quantity(np.array(self.Tval[q_filter] + self.templTime[q_filter]), 'ns')\n",
      "/tmp/ipykernel_13363/3312452371.py:12: DeprecationWarning: __array__ implementation doesn't accept a copy keyword, so passing copy=False failed. __array__ must implement 'dtype' and 'copy' keyword arguments.\n",
      "  t_arr = pq.Quantity(np.array(self.Tval[q_filter] + self.templTime[q_filter]), 'ns')\n",
      "/tmp/ipykernel_13363/3312452371.py:12: DeprecationWarning: __array__ implementation doesn't accept a copy keyword, so passing copy=False failed. __array__ must implement 'dtype' and 'copy' keyword arguments.\n",
      "  t_arr = pq.Quantity(np.array(self.Tval[q_filter] + self.templTime[q_filter]), 'ns')\n",
      "/tmp/ipykernel_13363/3312452371.py:12: DeprecationWarning: __array__ implementation doesn't accept a copy keyword, so passing copy=False failed. __array__ must implement 'dtype' and 'copy' keyword arguments.\n",
      "  t_arr = pq.Quantity(np.array(self.Tval[q_filter] + self.templTime[q_filter]), 'ns')\n",
      "/tmp/ipykernel_13363/3312452371.py:12: DeprecationWarning: __array__ implementation doesn't accept a copy keyword, so passing copy=False failed. __array__ must implement 'dtype' and 'copy' keyword arguments.\n",
      "  t_arr = pq.Quantity(np.array(self.Tval[q_filter] + self.templTime[q_filter]), 'ns')\n",
      "/tmp/ipykernel_13363/3312452371.py:12: DeprecationWarning: __array__ implementation doesn't accept a copy keyword, so passing copy=False failed. __array__ must implement 'dtype' and 'copy' keyword arguments.\n",
      "  t_arr = pq.Quantity(np.array(self.Tval[q_filter] + self.templTime[q_filter]), 'ns')\n",
      "/tmp/ipykernel_13363/3312452371.py:12: DeprecationWarning: __array__ implementation doesn't accept a copy keyword, so passing copy=False failed. __array__ must implement 'dtype' and 'copy' keyword arguments.\n",
      "  t_arr = pq.Quantity(np.array(self.Tval[q_filter] + self.templTime[q_filter]), 'ns')\n",
      "/tmp/ipykernel_13363/3312452371.py:12: DeprecationWarning: __array__ implementation doesn't accept a copy keyword, so passing copy=False failed. __array__ must implement 'dtype' and 'copy' keyword arguments.\n",
      "  t_arr = pq.Quantity(np.array(self.Tval[q_filter] + self.templTime[q_filter]), 'ns')\n",
      "/tmp/ipykernel_13363/3312452371.py:12: DeprecationWarning: __array__ implementation doesn't accept a copy keyword, so passing copy=False failed. __array__ must implement 'dtype' and 'copy' keyword arguments.\n",
      "  t_arr = pq.Quantity(np.array(self.Tval[q_filter] + self.templTime[q_filter]), 'ns')\n",
      "/tmp/ipykernel_13363/3312452371.py:12: DeprecationWarning: __array__ implementation doesn't accept a copy keyword, so passing copy=False failed. __array__ must implement 'dtype' and 'copy' keyword arguments.\n",
      "  t_arr = pq.Quantity(np.array(self.Tval[q_filter] + self.templTime[q_filter]), 'ns')\n",
      "/tmp/ipykernel_13363/3312452371.py:12: DeprecationWarning: __array__ implementation doesn't accept a copy keyword, so passing copy=False failed. __array__ must implement 'dtype' and 'copy' keyword arguments.\n",
      "  t_arr = pq.Quantity(np.array(self.Tval[q_filter] + self.templTime[q_filter]), 'ns')\n",
      "/tmp/ipykernel_13363/3312452371.py:12: DeprecationWarning: __array__ implementation doesn't accept a copy keyword, so passing copy=False failed. __array__ must implement 'dtype' and 'copy' keyword arguments.\n",
      "  t_arr = pq.Quantity(np.array(self.Tval[q_filter] + self.templTime[q_filter]), 'ns')\n",
      "/tmp/ipykernel_13363/3312452371.py:12: DeprecationWarning: __array__ implementation doesn't accept a copy keyword, so passing copy=False failed. __array__ must implement 'dtype' and 'copy' keyword arguments.\n",
      "  t_arr = pq.Quantity(np.array(self.Tval[q_filter] + self.templTime[q_filter]), 'ns')\n",
      "/tmp/ipykernel_13363/3312452371.py:12: DeprecationWarning: __array__ implementation doesn't accept a copy keyword, so passing copy=False failed. __array__ must implement 'dtype' and 'copy' keyword arguments.\n",
      "  t_arr = pq.Quantity(np.array(self.Tval[q_filter] + self.templTime[q_filter]), 'ns')\n",
      "/tmp/ipykernel_13363/3312452371.py:12: DeprecationWarning: __array__ implementation doesn't accept a copy keyword, so passing copy=False failed. __array__ must implement 'dtype' and 'copy' keyword arguments.\n",
      "  t_arr = pq.Quantity(np.array(self.Tval[q_filter] + self.templTime[q_filter]), 'ns')\n",
      "/tmp/ipykernel_13363/3312452371.py:12: DeprecationWarning: __array__ implementation doesn't accept a copy keyword, so passing copy=False failed. __array__ must implement 'dtype' and 'copy' keyword arguments.\n",
      "  t_arr = pq.Quantity(np.array(self.Tval[q_filter] + self.templTime[q_filter]), 'ns')\n",
      "/tmp/ipykernel_13363/3312452371.py:12: DeprecationWarning: __array__ implementation doesn't accept a copy keyword, so passing copy=False failed. __array__ must implement 'dtype' and 'copy' keyword arguments.\n",
      "  t_arr = pq.Quantity(np.array(self.Tval[q_filter] + self.templTime[q_filter]), 'ns')\n",
      "/tmp/ipykernel_13363/3312452371.py:12: DeprecationWarning: __array__ implementation doesn't accept a copy keyword, so passing copy=False failed. __array__ must implement 'dtype' and 'copy' keyword arguments.\n",
      "  t_arr = pq.Quantity(np.array(self.Tval[q_filter] + self.templTime[q_filter]), 'ns')\n",
      "/tmp/ipykernel_13363/3312452371.py:12: DeprecationWarning: __array__ implementation doesn't accept a copy keyword, so passing copy=False failed. __array__ must implement 'dtype' and 'copy' keyword arguments.\n",
      "  t_arr = pq.Quantity(np.array(self.Tval[q_filter] + self.templTime[q_filter]), 'ns')\n"
     ]
    },
    {
     "ename": "",
     "evalue": "",
     "output_type": "error",
     "traceback": [
      "\u001b[1;31mCanceled future for execute_request message before replies were done"
     ]
    },
    {
     "ename": "",
     "evalue": "",
     "output_type": "error",
     "traceback": [
      "\u001b[1;31mCanceled future for execute_request message before replies were done. \n",
      "\u001b[1;31mPer ulteriori dettagli, visualizzare Jupyter <a href='command:jupyter.viewOutput'>log</a>."
     ]
    }
   ],
   "source": [
    "#Apply the filters and compute the residuals\n",
    "slope_cut = np.sqrt(1 / COS_THETA_CUT - 1)\n",
    "filters = {'n_min' : tree.nHits > HITNUM_CUT,\n",
    "           'slope_min' : abs(tree.slope) > slope_cut,\n",
    "           'chi_sq' : tree.chi_sq / tree.ndf < CHI_ON_NDF_CUT}\n",
    "filtered_events = tree[filters['n_min'] & filters['slope_min'] & filters['chi_sq']]\n",
    "filtered_events = ak.drop_none(filtered_events)\n",
    "\n",
    "def get_t_residuals(event) -> dict | None:\n",
    "    #Just a wrapper since the executor wants a funciton and not a method\n",
    "    return event.t_residuals()\n",
    "with ProcessPoolExecutor() as executor:\n",
    "    residuals = list(executor.map(get_t_residuals, filtered_events))\n",
    "residuals = ak.Array(residuals)\n"
   ]
  },
  {
   "cell_type": "code",
   "execution_count": 136,
   "metadata": {},
   "outputs": [
    {
     "data": {
      "text/plain": [
       "array(1.77777778) * ns"
      ]
     },
     "execution_count": 136,
     "metadata": {},
     "output_type": "execute_result"
    }
   ],
   "source": [
    "a= np.array([1.1,2,3.4])*pq.ns\n",
    "b= np.array([10, 1.3, 4, 5])\n",
    "filter = [True, True, True, False]\n",
    "pq.Quantity(np.average(a, weights= b[filter]), 'ns')"
   ]
  },
  {
   "cell_type": "code",
   "execution_count": 151,
   "metadata": {},
   "outputs": [],
   "source": [
    "a=[{'1,2,3':4,'5,6,7':8},{'1,2,3':6,'5,6,7':1}]\n",
    "b= ak.Array(a)"
   ]
  },
  {
   "cell_type": "code",
   "execution_count": 155,
   "metadata": {},
   "outputs": [
    {
     "data": {
      "text/plain": [
       "'(1, 2, 3)'"
      ]
     },
     "execution_count": 155,
     "metadata": {},
     "output_type": "execute_result"
    }
   ],
   "source": [
    "str((1,2,3))"
   ]
  }
 ],
 "metadata": {
  "kernelspec": {
   "display_name": "Python [conda env:.conda-t_cal]",
   "language": "python",
   "name": "conda-env-.conda-t_cal-py"
  },
  "language_info": {
   "codemirror_mode": {
    "name": "ipython",
    "version": 3
   },
   "file_extension": ".py",
   "mimetype": "text/x-python",
   "name": "python",
   "nbconvert_exporter": "python",
   "pygments_lexer": "ipython3",
   "version": "3.12.5"
  }
 },
 "nbformat": 4,
 "nbformat_minor": 4
}
