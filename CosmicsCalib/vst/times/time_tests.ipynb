{
 "cells": [
  {
   "cell_type": "markdown",
   "metadata": {},
   "source": [
    "Mu2E Calorimeter Calibration\n",
    "\n",
    "Tester for different time intervals in fitting SiPM data\n",
    "\n",
    "By Giacinto Boccia | 2024-08-19"
   ]
  },
  {
   "cell_type": "code",
   "execution_count": 1,
   "metadata": {},
   "outputs": [],
   "source": [
    "import ROOT as R\n",
    "import numpy as np\n",
    "import tempfile\n",
    "import os.path\n",
    "from array import array\n",
    "import concurrent.futures\n",
    "from t_intervals import t_inters\n",
    "\n",
    "#Ignoring most ROOT error messages\n",
    "R.gErrorIgnoreLevel = 6001\n",
    "#Load macros\n",
    "R.gInterpreter.LoadMacro ('./caloreco.C')\n",
    "R.gInterpreter.LoadMacro ('./AnaDriver2_1.C')\n",
    "\n",
    "MIN_CRYSTALS = 50\n",
    "results_arr = np.zeros((t_inters.shape[0], 2), dtype = np.double)\n",
    "#This will store (sigma, n_couples)\n",
    "result_direcory = \"/exp/mu2e/data/users/gboccia/time_tests/\"\n",
    "#result_direcory = \"./Results/\""
   ]
  },
  {
   "cell_type": "code",
   "execution_count": 2,
   "metadata": {},
   "outputs": [],
   "source": [
    "def interval_to_name(interval : np.array) -> str:\n",
    "    name = \"\"\n",
    "    for value in interval:\n",
    "        #We use \"p\" for positive and \"m\" for negative values\n",
    "        if value >= 0:\n",
    "            name += \"p\"\n",
    "            name += str(abs(int(value)))\n",
    "        else:\n",
    "            name += \"m\"\n",
    "            name += str(abs(int(value)))\n",
    "        name += \"_\"\n",
    "    return name[:-1]"
   ]
  },
  {
   "cell_type": "code",
   "execution_count": 3,
   "metadata": {},
   "outputs": [],
   "source": [
    "def get_sigma(interval : np.array) -> tuple[np.double, np.double]:\n",
    "    f'Trying interval {interval[0]} {interval[1]}'\n",
    "    int_name = interval_to_name(interval)\n",
    "    sigma = np.double(0)\n",
    "    n_data = np.double(0)\n",
    "\n",
    "    #Run Caloreco\n",
    "    out_name_calo = result_direcory + int_name + \".root\"\n",
    "    if not os.path.exists(out_name_calo):\n",
    "        #Skipped if output file already exists\n",
    "        caloreco_obj = R.caloreco('data.list')\n",
    "        caloreco_obj.Loop(out_name_calo, 0, interval[0], interval[1])\n",
    "    \n",
    "    #Store output name in a temp file\n",
    "    tmp = tempfile.NamedTemporaryFile(dir = result_direcory, prefix = 'temp_', suffix = '.list')\n",
    "    tmp.write(bytes(out_name_calo, 'utf-8'))\n",
    "    tmp.flush()\n",
    "\n",
    "    #Run AnaDriver2_1\n",
    "    out_name_ana = result_direcory + int_name + \"_time.root\"\n",
    "    if os.path.exists(out_name_ana):\n",
    "        #If outupt file already exists, retrive result\n",
    "        file = R.TFile.Open(out_name_ana)\n",
    "        #Check if the histogram is not empty\n",
    "        n_data = file[\"h_sig\"].GetEntries()\n",
    "        if n_data > 0:\n",
    "            fit = file[\"h_sig\"].GetFunction(\"Gauss\")\n",
    "            sigma = fit.GetParameter(1)\n",
    "        file.Close()\n",
    "    else:\n",
    "        #Else run AnaDriver\n",
    "        anadriver_obj = R.AnaDriver2(tmp.name)\n",
    "        sigma = anadriver_obj.Loop(out_name_ana, 0, 12, 10)\n",
    "        with R.TFile.Open(out_name_ana) as file:\n",
    "            n_data = file.h_sig.GetEntries()\n",
    "    return sigma, n_data"
   ]
  },
  {
   "cell_type": "code",
   "execution_count": 4,
   "metadata": {},
   "outputs": [],
   "source": [
    "with concurrent.futures.ProcessPoolExecutor() as executor:\n",
    "    for i, result in zip(range(t_inters.shape[0]), executor.map(get_sigma, t_inters)):\n",
    "        results_arr[i] = result"
   ]
  },
  {
   "cell_type": "code",
   "execution_count": 5,
   "metadata": {},
   "outputs": [],
   "source": [
    "#Prepare a graph\n",
    "canvas = R.TCanvas(\"Sigma-DeltaT\", \"Sigma-DeltaT\")\n",
    "plot = R.TGraph2D()\n",
    "#Fill with nonzero values that where calculated over a minimum number of crystals\n",
    "n_points = 0\n",
    "for i in range(t_inters.shape[0]):\n",
    "    if results_arr[i, 0] > 0 and results_arr[i, 1] >= MIN_CRYSTALS:\n",
    "        plot.SetPoint(n_points, t_inters[i, 0], t_inters[i, 1], results_arr[i, 0])\n",
    "        n_points += 1\n",
    "#Plot\n",
    "plot.SetTitle(\"Sigma-DeltaT\")\n",
    "plot.GetZaxis().SetTitle(\"sigma\")\n",
    "plot.GetXaxis().SetTitle(\"t_start\")\n",
    "plot.GetYaxis().SetTitle(\"t_end\")\n",
    "plot.Draw()\n",
    "canvas.SaveAs(result_direcory + \"sigma_delta.root\")"
   ]
  },
  {
   "cell_type": "code",
   "execution_count": 6,
   "metadata": {},
   "outputs": [
    {
     "name": "stdin",
     "output_type": "stream",
     "text": [
      "Press any key to exit \n"
     ]
    },
    {
     "data": {
      "text/plain": [
       "''"
      ]
     },
     "execution_count": 6,
     "metadata": {},
     "output_type": "execute_result"
    }
   ],
   "source": [
    "#Save result to a CSV file\n",
    "with open (result_direcory + \"time_test_reslts.csv\", 'w') as file:\n",
    "    print (\"Start,End,Sigma,N_crystals\", file = file)\n",
    "    for i in range (t_inters.shape[0]):\n",
    "        print (t_inters[i, 0], t_inters[i, 1], results_arr[i, 0], results_arr[i, 1], sep = \",\", file = file)\n",
    "\n",
    "input(\"Press any key to exit\")"
   ]
  }
 ],
 "metadata": {
  "kernelspec": {
   "display_name": "Python [conda env:.conda-Pyroot]",
   "language": "python",
   "name": "conda-env-.conda-Pyroot-py"
  },
  "language_info": {
   "codemirror_mode": {
    "name": "ipython",
    "version": 3
   },
   "file_extension": ".py",
   "mimetype": "text/x-python",
   "name": "python",
   "nbconvert_exporter": "python",
   "pygments_lexer": "ipython3",
   "version": "3.10.14"
  }
 },
 "nbformat": 4,
 "nbformat_minor": 4
}
